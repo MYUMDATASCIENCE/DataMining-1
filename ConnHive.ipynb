{
 "cells": [
  {
   "cell_type": "code",
   "execution_count": 1,
   "metadata": {},
   "outputs": [],
   "source": [
    "import pandas as pd\n",
    "from pyhive import hive "
   ]
  },
  {
   "cell_type": "code",
   "execution_count": 2,
   "metadata": {},
   "outputs": [],
   "source": [
    "conn = hive.Connection(host=\"localhost\", port=10000)"
   ]
  },
  {
   "cell_type": "code",
   "execution_count": 4,
   "metadata": {},
   "outputs": [],
   "source": [
    "df = pd.read_sql(\"SELECT * FROM default.wti_price\", conn)"
   ]
  },
  {
   "cell_type": "code",
   "execution_count": 5,
   "metadata": {},
   "outputs": [
    {
     "data": {
      "text/html": [
       "<div>\n",
       "<style scoped>\n",
       "    .dataframe tbody tr th:only-of-type {\n",
       "        vertical-align: middle;\n",
       "    }\n",
       "\n",
       "    .dataframe tbody tr th {\n",
       "        vertical-align: top;\n",
       "    }\n",
       "\n",
       "    .dataframe thead th {\n",
       "        text-align: right;\n",
       "    }\n",
       "</style>\n",
       "<table border=\"1\" class=\"dataframe\">\n",
       "  <thead>\n",
       "    <tr style=\"text-align: right;\">\n",
       "      <th></th>\n",
       "      <th>wti_price.date1</th>\n",
       "      <th>wti_price.close</th>\n",
       "      <th>wti_price.open</th>\n",
       "      <th>wti_price.high</th>\n",
       "      <th>wti_price.low</th>\n",
       "    </tr>\n",
       "  </thead>\n",
       "  <tbody>\n",
       "    <tr>\n",
       "      <th>0</th>\n",
       "      <td>2020-03-11</td>\n",
       "      <td>32.98</td>\n",
       "      <td>34.62</td>\n",
       "      <td>36.35</td>\n",
       "      <td>32.56</td>\n",
       "    </tr>\n",
       "    <tr>\n",
       "      <th>1</th>\n",
       "      <td>2020-03-10</td>\n",
       "      <td>34.36</td>\n",
       "      <td>30.37</td>\n",
       "      <td>35.02</td>\n",
       "      <td>30.20</td>\n",
       "    </tr>\n",
       "    <tr>\n",
       "      <th>2</th>\n",
       "      <td>2020-03-09</td>\n",
       "      <td>31.13</td>\n",
       "      <td>32.87</td>\n",
       "      <td>34.88</td>\n",
       "      <td>27.34</td>\n",
       "    </tr>\n",
       "    <tr>\n",
       "      <th>3</th>\n",
       "      <td>2020-03-06</td>\n",
       "      <td>41.28</td>\n",
       "      <td>46.09</td>\n",
       "      <td>46.38</td>\n",
       "      <td>41.05</td>\n",
       "    </tr>\n",
       "    <tr>\n",
       "      <th>4</th>\n",
       "      <td>2020-03-05</td>\n",
       "      <td>45.90</td>\n",
       "      <td>47.13</td>\n",
       "      <td>47.57</td>\n",
       "      <td>45.65</td>\n",
       "    </tr>\n",
       "  </tbody>\n",
       "</table>\n",
       "</div>"
      ],
      "text/plain": [
       "  wti_price.date1  wti_price.close  wti_price.open  wti_price.high  \\\n",
       "0      2020-03-11            32.98           34.62           36.35   \n",
       "1      2020-03-10            34.36           30.37           35.02   \n",
       "2      2020-03-09            31.13           32.87           34.88   \n",
       "3      2020-03-06            41.28           46.09           46.38   \n",
       "4      2020-03-05            45.90           47.13           47.57   \n",
       "\n",
       "   wti_price.low  \n",
       "0          32.56  \n",
       "1          30.20  \n",
       "2          27.34  \n",
       "3          41.05  \n",
       "4          45.65  "
      ]
     },
     "execution_count": 5,
     "metadata": {},
     "output_type": "execute_result"
    }
   ],
   "source": [
    "df.head()"
   ]
  },
  {
   "cell_type": "code",
   "execution_count": 6,
   "metadata": {},
   "outputs": [
    {
     "data": {
      "text/html": [
       "<div>\n",
       "<style scoped>\n",
       "    .dataframe tbody tr th:only-of-type {\n",
       "        vertical-align: middle;\n",
       "    }\n",
       "\n",
       "    .dataframe tbody tr th {\n",
       "        vertical-align: top;\n",
       "    }\n",
       "\n",
       "    .dataframe thead th {\n",
       "        text-align: right;\n",
       "    }\n",
       "</style>\n",
       "<table border=\"1\" class=\"dataframe\">\n",
       "  <thead>\n",
       "    <tr style=\"text-align: right;\">\n",
       "      <th></th>\n",
       "      <th>wti_price.close</th>\n",
       "      <th>wti_price.open</th>\n",
       "      <th>wti_price.high</th>\n",
       "      <th>wti_price.low</th>\n",
       "    </tr>\n",
       "  </thead>\n",
       "  <tbody>\n",
       "    <tr>\n",
       "      <th>count</th>\n",
       "      <td>3614.000000</td>\n",
       "      <td>3554.000000</td>\n",
       "      <td>3595.000000</td>\n",
       "      <td>3602.000000</td>\n",
       "    </tr>\n",
       "    <tr>\n",
       "      <th>mean</th>\n",
       "      <td>73.224920</td>\n",
       "      <td>73.301925</td>\n",
       "      <td>74.264281</td>\n",
       "      <td>72.156191</td>\n",
       "    </tr>\n",
       "    <tr>\n",
       "      <th>std</th>\n",
       "      <td>22.148189</td>\n",
       "      <td>22.088121</td>\n",
       "      <td>22.233873</td>\n",
       "      <td>21.982630</td>\n",
       "    </tr>\n",
       "    <tr>\n",
       "      <th>min</th>\n",
       "      <td>28.490000</td>\n",
       "      <td>28.140000</td>\n",
       "      <td>29.190000</td>\n",
       "      <td>0.000000</td>\n",
       "    </tr>\n",
       "    <tr>\n",
       "      <th>25%</th>\n",
       "      <td>54.152500</td>\n",
       "      <td>54.250000</td>\n",
       "      <td>55.215000</td>\n",
       "      <td>53.432500</td>\n",
       "    </tr>\n",
       "    <tr>\n",
       "      <th>50%</th>\n",
       "      <td>70.530000</td>\n",
       "      <td>70.665000</td>\n",
       "      <td>71.660000</td>\n",
       "      <td>69.395000</td>\n",
       "    </tr>\n",
       "    <tr>\n",
       "      <th>75%</th>\n",
       "      <td>92.720000</td>\n",
       "      <td>92.755000</td>\n",
       "      <td>93.670000</td>\n",
       "      <td>91.555000</td>\n",
       "    </tr>\n",
       "    <tr>\n",
       "      <th>max</th>\n",
       "      <td>145.290000</td>\n",
       "      <td>145.450000</td>\n",
       "      <td>147.270000</td>\n",
       "      <td>143.720000</td>\n",
       "    </tr>\n",
       "  </tbody>\n",
       "</table>\n",
       "</div>"
      ],
      "text/plain": [
       "       wti_price.close  wti_price.open  wti_price.high  wti_price.low\n",
       "count      3614.000000     3554.000000     3595.000000    3602.000000\n",
       "mean         73.224920       73.301925       74.264281      72.156191\n",
       "std          22.148189       22.088121       22.233873      21.982630\n",
       "min          28.490000       28.140000       29.190000       0.000000\n",
       "25%          54.152500       54.250000       55.215000      53.432500\n",
       "50%          70.530000       70.665000       71.660000      69.395000\n",
       "75%          92.720000       92.755000       93.670000      91.555000\n",
       "max         145.290000      145.450000      147.270000     143.720000"
      ]
     },
     "execution_count": 6,
     "metadata": {},
     "output_type": "execute_result"
    }
   ],
   "source": [
    "df.describe()"
   ]
  },
  {
   "cell_type": "code",
   "execution_count": 7,
   "metadata": {},
   "outputs": [
    {
     "name": "stdout",
     "output_type": "stream",
     "text": [
      "<class 'pandas.core.frame.DataFrame'>\n",
      "RangeIndex: 3614 entries, 0 to 3613\n",
      "Data columns (total 5 columns):\n",
      " #   Column           Non-Null Count  Dtype  \n",
      "---  ------           --------------  -----  \n",
      " 0   wti_price.date1  3614 non-null   object \n",
      " 1   wti_price.close  3614 non-null   float64\n",
      " 2   wti_price.open   3554 non-null   float64\n",
      " 3   wti_price.high   3595 non-null   float64\n",
      " 4   wti_price.low    3602 non-null   float64\n",
      "dtypes: float64(4), object(1)\n",
      "memory usage: 141.3+ KB\n"
     ]
    }
   ],
   "source": [
    "df.info()"
   ]
  }
 ],
 "metadata": {
  "kernelspec": {
   "display_name": "Python 3",
   "language": "python",
   "name": "python3"
  },
  "language_info": {
   "codemirror_mode": {
    "name": "ipython",
    "version": 3
   },
   "file_extension": ".py",
   "mimetype": "text/x-python",
   "name": "python",
   "nbconvert_exporter": "python",
   "pygments_lexer": "ipython3",
   "version": "3.8.2"
  }
 },
 "nbformat": 4,
 "nbformat_minor": 4
}

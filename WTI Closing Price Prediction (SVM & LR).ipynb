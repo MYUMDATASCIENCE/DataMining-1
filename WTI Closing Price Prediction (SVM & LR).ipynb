{
 "cells": [
  {
   "cell_type": "markdown",
   "metadata": {},
   "source": [
    "Muhammad Amirul Samsul Bahar, Universiti Malaya - WQD7005 Data Mining\n",
    "# Forecasting WTI Crude Oil Price\n",
    "------------------------------------\n",
    "This notebook explains on forecasting WTI crude oil closing price using two machine learning models which are Support Vector Machine (SVM) and Linear Regression."
   ]
  },
  {
   "cell_type": "code",
   "execution_count": 1,
   "metadata": {},
   "outputs": [],
   "source": [
    "# Import needed libraries\n",
    "import pandas as pd\n",
    "import numpy as np\n",
    "from sklearn.preprocessing import MinMaxScaler\n",
    "from sklearn.model_selection import train_test_split\n",
    "from sklearn.linear_model import LinearRegression\n",
    "from sklearn.svm import SVR\n",
    "import matplotlib.pyplot as plt"
   ]
  },
  {
   "cell_type": "markdown",
   "metadata": {},
   "source": [
    "### Step 1: Load the Data\n",
    "---------------------------\n",
    "<div align='justify'>\n",
    "    \n",
    "In this step, we will load the WTI price dataset as dataframe using pandas' `read_csv()` method and have a glimpse on how the data looks like. Some of the methods that we will be using a lot in the first few steps are:\n",
    "* `DataFrame.info()`\n",
    "* `DataFrame.head()`\n",
    "* `DataFrame.tail()`\n",
    "\n",
    "The data is scrapped from a website called <a href=\"https://markets.businessinsider.com/\">Markets Insider</a>.\n",
    "\n",
    "#### Read dataset from github as Pandas DataFrame\n",
    "    \n",
    "</div>"
   ]
  },
  {
   "cell_type": "code",
   "execution_count": 2,
   "metadata": {},
   "outputs": [],
   "source": [
    "# Get the data from github\n",
    "github_link = 'https://raw.githubusercontent.com/muhdamirulsamsul/DataMining/master/wtiprice.csv'\n",
    "df = pd.read_csv(github_link)"
   ]
  },
  {
   "cell_type": "markdown",
   "metadata": {},
   "source": [
    "#### Print info of the dataset"
   ]
  },
  {
   "cell_type": "code",
   "execution_count": 3,
   "metadata": {},
   "outputs": [
    {
     "name": "stdout",
     "output_type": "stream",
     "text": [
      "<class 'pandas.core.frame.DataFrame'>\n",
      "RangeIndex: 3614 entries, 0 to 3613\n",
      "Data columns (total 5 columns):\n",
      " #   Column         Non-Null Count  Dtype  \n",
      "---  ------         --------------  -----  \n",
      " 0   Date           3614 non-null   object \n",
      " 1   Closing Price  3614 non-null   float64\n",
      " 2   Open           3554 non-null   float64\n",
      " 3   Daily High     3595 non-null   float64\n",
      " 4   Daily Low      3602 non-null   float64\n",
      "dtypes: float64(4), object(1)\n",
      "memory usage: 141.3+ KB\n"
     ]
    }
   ],
   "source": [
    "df.info()"
   ]
  },
  {
   "cell_type": "markdown",
   "metadata": {},
   "source": [
    "#### Have a glimpse on the dataset"
   ]
  },
  {
   "cell_type": "code",
   "execution_count": 4,
   "metadata": {},
   "outputs": [
    {
     "data": {
      "text/html": [
       "<div>\n",
       "<style scoped>\n",
       "    .dataframe tbody tr th:only-of-type {\n",
       "        vertical-align: middle;\n",
       "    }\n",
       "\n",
       "    .dataframe tbody tr th {\n",
       "        vertical-align: top;\n",
       "    }\n",
       "\n",
       "    .dataframe thead th {\n",
       "        text-align: right;\n",
       "    }\n",
       "</style>\n",
       "<table border=\"1\" class=\"dataframe\">\n",
       "  <thead>\n",
       "    <tr style=\"text-align: right;\">\n",
       "      <th></th>\n",
       "      <th>Date</th>\n",
       "      <th>Closing Price</th>\n",
       "      <th>Open</th>\n",
       "      <th>Daily High</th>\n",
       "      <th>Daily Low</th>\n",
       "    </tr>\n",
       "  </thead>\n",
       "  <tbody>\n",
       "    <tr>\n",
       "      <th>0</th>\n",
       "      <td>2020-03-11</td>\n",
       "      <td>32.98</td>\n",
       "      <td>34.62</td>\n",
       "      <td>36.35</td>\n",
       "      <td>32.56</td>\n",
       "    </tr>\n",
       "    <tr>\n",
       "      <th>1</th>\n",
       "      <td>2020-03-10</td>\n",
       "      <td>34.36</td>\n",
       "      <td>30.37</td>\n",
       "      <td>35.02</td>\n",
       "      <td>30.20</td>\n",
       "    </tr>\n",
       "    <tr>\n",
       "      <th>2</th>\n",
       "      <td>2020-03-09</td>\n",
       "      <td>31.13</td>\n",
       "      <td>32.87</td>\n",
       "      <td>34.88</td>\n",
       "      <td>27.34</td>\n",
       "    </tr>\n",
       "    <tr>\n",
       "      <th>3</th>\n",
       "      <td>2020-03-06</td>\n",
       "      <td>41.28</td>\n",
       "      <td>46.09</td>\n",
       "      <td>46.38</td>\n",
       "      <td>41.05</td>\n",
       "    </tr>\n",
       "    <tr>\n",
       "      <th>4</th>\n",
       "      <td>2020-03-05</td>\n",
       "      <td>45.90</td>\n",
       "      <td>47.13</td>\n",
       "      <td>47.57</td>\n",
       "      <td>45.65</td>\n",
       "    </tr>\n",
       "  </tbody>\n",
       "</table>\n",
       "</div>"
      ],
      "text/plain": [
       "         Date  Closing Price   Open  Daily High  Daily Low\n",
       "0  2020-03-11          32.98  34.62       36.35      32.56\n",
       "1  2020-03-10          34.36  30.37       35.02      30.20\n",
       "2  2020-03-09          31.13  32.87       34.88      27.34\n",
       "3  2020-03-06          41.28  46.09       46.38      41.05\n",
       "4  2020-03-05          45.90  47.13       47.57      45.65"
      ]
     },
     "execution_count": 4,
     "metadata": {},
     "output_type": "execute_result"
    }
   ],
   "source": [
    "df.head()"
   ]
  },
  {
   "cell_type": "code",
   "execution_count": 5,
   "metadata": {},
   "outputs": [
    {
     "data": {
      "text/html": [
       "<div>\n",
       "<style scoped>\n",
       "    .dataframe tbody tr th:only-of-type {\n",
       "        vertical-align: middle;\n",
       "    }\n",
       "\n",
       "    .dataframe tbody tr th {\n",
       "        vertical-align: top;\n",
       "    }\n",
       "\n",
       "    .dataframe thead th {\n",
       "        text-align: right;\n",
       "    }\n",
       "</style>\n",
       "<table border=\"1\" class=\"dataframe\">\n",
       "  <thead>\n",
       "    <tr style=\"text-align: right;\">\n",
       "      <th></th>\n",
       "      <th>Date</th>\n",
       "      <th>Closing Price</th>\n",
       "      <th>Open</th>\n",
       "      <th>Daily High</th>\n",
       "      <th>Daily Low</th>\n",
       "    </tr>\n",
       "  </thead>\n",
       "  <tbody>\n",
       "    <tr>\n",
       "      <th>3609</th>\n",
       "      <td>2006-02-09</td>\n",
       "      <td>62.62</td>\n",
       "      <td>62.68</td>\n",
       "      <td>63.73</td>\n",
       "      <td>62.38</td>\n",
       "    </tr>\n",
       "    <tr>\n",
       "      <th>3610</th>\n",
       "      <td>2006-02-08</td>\n",
       "      <td>62.55</td>\n",
       "      <td>62.96</td>\n",
       "      <td>63.44</td>\n",
       "      <td>62.29</td>\n",
       "    </tr>\n",
       "    <tr>\n",
       "      <th>3611</th>\n",
       "      <td>2006-02-07</td>\n",
       "      <td>63.09</td>\n",
       "      <td>64.82</td>\n",
       "      <td>64.90</td>\n",
       "      <td>62.81</td>\n",
       "    </tr>\n",
       "    <tr>\n",
       "      <th>3612</th>\n",
       "      <td>2006-02-06</td>\n",
       "      <td>65.11</td>\n",
       "      <td>66.35</td>\n",
       "      <td>66.50</td>\n",
       "      <td>64.77</td>\n",
       "    </tr>\n",
       "    <tr>\n",
       "      <th>3613</th>\n",
       "      <td>2006-02-03</td>\n",
       "      <td>65.37</td>\n",
       "      <td>64.77</td>\n",
       "      <td>65.48</td>\n",
       "      <td>63.93</td>\n",
       "    </tr>\n",
       "  </tbody>\n",
       "</table>\n",
       "</div>"
      ],
      "text/plain": [
       "            Date  Closing Price   Open  Daily High  Daily Low\n",
       "3609  2006-02-09          62.62  62.68       63.73      62.38\n",
       "3610  2006-02-08          62.55  62.96       63.44      62.29\n",
       "3611  2006-02-07          63.09  64.82       64.90      62.81\n",
       "3612  2006-02-06          65.11  66.35       66.50      64.77\n",
       "3613  2006-02-03          65.37  64.77       65.48      63.93"
      ]
     },
     "execution_count": 5,
     "metadata": {},
     "output_type": "execute_result"
    }
   ],
   "source": [
    "df.tail()"
   ]
  },
  {
   "cell_type": "markdown",
   "metadata": {},
   "source": [
    "### Step 2: Understanding & Cleaning the Data\n",
    "---------------------------\n",
    "<div align='justify'>\n",
    "We will try to have a proper look on the column names, the data type of each column, and the index. The date starts from year 2006 to 2020. The dataframe needs to be sorted reversely since it starts from year 2020 as you can see from the above table.  It is quite troublesome to have a long name for the column. Thus, we will shorten the column names. Then, we will observe the data type of each column and determine wether the data type is appropriate or not. Plot of the data will help us to understand more about the data. We can see the maximum and minimum value quickly just by looking at the plot. Once plotted, we will scale the data.  \n",
    "</div>"
   ]
  },
  {
   "cell_type": "markdown",
   "metadata": {},
   "source": [
    "#### Changing the column names"
   ]
  },
  {
   "cell_type": "code",
   "execution_count": 6,
   "metadata": {},
   "outputs": [
    {
     "data": {
      "text/plain": [
       "Index(['Date', 'Closing Price', 'Open', 'Daily High', 'Daily Low'], dtype='object')"
      ]
     },
     "execution_count": 6,
     "metadata": {},
     "output_type": "execute_result"
    }
   ],
   "source": [
    "# Print the column names\n",
    "df.columns"
   ]
  },
  {
   "cell_type": "code",
   "execution_count": 7,
   "metadata": {},
   "outputs": [
    {
     "data": {
      "text/plain": [
       "Index(['Date', 'Close', 'Open', 'High', 'Low'], dtype='object')"
      ]
     },
     "execution_count": 7,
     "metadata": {},
     "output_type": "execute_result"
    }
   ],
   "source": [
    "# Hard to do operation with long column name\n",
    "df.columns = ['Date', 'Close', 'Open', 'High', 'Low']\n",
    "df.columns"
   ]
  },
  {
   "cell_type": "code",
   "execution_count": 8,
   "metadata": {},
   "outputs": [
    {
     "data": {
      "text/html": [
       "<div>\n",
       "<style scoped>\n",
       "    .dataframe tbody tr th:only-of-type {\n",
       "        vertical-align: middle;\n",
       "    }\n",
       "\n",
       "    .dataframe tbody tr th {\n",
       "        vertical-align: top;\n",
       "    }\n",
       "\n",
       "    .dataframe thead th {\n",
       "        text-align: right;\n",
       "    }\n",
       "</style>\n",
       "<table border=\"1\" class=\"dataframe\">\n",
       "  <thead>\n",
       "    <tr style=\"text-align: right;\">\n",
       "      <th></th>\n",
       "      <th>Date</th>\n",
       "      <th>Close</th>\n",
       "      <th>Open</th>\n",
       "      <th>High</th>\n",
       "      <th>Low</th>\n",
       "    </tr>\n",
       "  </thead>\n",
       "  <tbody>\n",
       "    <tr>\n",
       "      <th>0</th>\n",
       "      <td>2020-03-11</td>\n",
       "      <td>32.98</td>\n",
       "      <td>34.62</td>\n",
       "      <td>36.35</td>\n",
       "      <td>32.56</td>\n",
       "    </tr>\n",
       "    <tr>\n",
       "      <th>1</th>\n",
       "      <td>2020-03-10</td>\n",
       "      <td>34.36</td>\n",
       "      <td>30.37</td>\n",
       "      <td>35.02</td>\n",
       "      <td>30.20</td>\n",
       "    </tr>\n",
       "    <tr>\n",
       "      <th>2</th>\n",
       "      <td>2020-03-09</td>\n",
       "      <td>31.13</td>\n",
       "      <td>32.87</td>\n",
       "      <td>34.88</td>\n",
       "      <td>27.34</td>\n",
       "    </tr>\n",
       "    <tr>\n",
       "      <th>3</th>\n",
       "      <td>2020-03-06</td>\n",
       "      <td>41.28</td>\n",
       "      <td>46.09</td>\n",
       "      <td>46.38</td>\n",
       "      <td>41.05</td>\n",
       "    </tr>\n",
       "    <tr>\n",
       "      <th>4</th>\n",
       "      <td>2020-03-05</td>\n",
       "      <td>45.90</td>\n",
       "      <td>47.13</td>\n",
       "      <td>47.57</td>\n",
       "      <td>45.65</td>\n",
       "    </tr>\n",
       "  </tbody>\n",
       "</table>\n",
       "</div>"
      ],
      "text/plain": [
       "         Date  Close   Open   High    Low\n",
       "0  2020-03-11  32.98  34.62  36.35  32.56\n",
       "1  2020-03-10  34.36  30.37  35.02  30.20\n",
       "2  2020-03-09  31.13  32.87  34.88  27.34\n",
       "3  2020-03-06  41.28  46.09  46.38  41.05\n",
       "4  2020-03-05  45.90  47.13  47.57  45.65"
      ]
     },
     "execution_count": 8,
     "metadata": {},
     "output_type": "execute_result"
    }
   ],
   "source": [
    "df.head()"
   ]
  },
  {
   "cell_type": "markdown",
   "metadata": {},
   "source": [
    "#### Changing the datatype of the columns"
   ]
  },
  {
   "cell_type": "code",
   "execution_count": 9,
   "metadata": {},
   "outputs": [],
   "source": [
    "# Change column type \n",
    "df['Date'] = pd.to_datetime(df['Date'])"
   ]
  },
  {
   "cell_type": "code",
   "execution_count": 10,
   "metadata": {},
   "outputs": [
    {
     "name": "stdout",
     "output_type": "stream",
     "text": [
      "<class 'pandas.core.frame.DataFrame'>\n",
      "RangeIndex: 3614 entries, 0 to 3613\n",
      "Data columns (total 5 columns):\n",
      " #   Column  Non-Null Count  Dtype         \n",
      "---  ------  --------------  -----         \n",
      " 0   Date    3614 non-null   datetime64[ns]\n",
      " 1   Close   3614 non-null   float64       \n",
      " 2   Open    3554 non-null   float64       \n",
      " 3   High    3595 non-null   float64       \n",
      " 4   Low     3602 non-null   float64       \n",
      "dtypes: datetime64[ns](1), float64(4)\n",
      "memory usage: 141.3 KB\n"
     ]
    }
   ],
   "source": [
    "# Check the data type of column Date\n",
    "df.info()"
   ]
  },
  {
   "cell_type": "markdown",
   "metadata": {},
   "source": [
    "#### Sort the index"
   ]
  },
  {
   "cell_type": "code",
   "execution_count": 11,
   "metadata": {},
   "outputs": [],
   "source": [
    "# Sort index in descending order and then reset the index\n",
    "df = df.sort_index(ascending=False).reset_index(drop=True)"
   ]
  },
  {
   "cell_type": "code",
   "execution_count": 12,
   "metadata": {},
   "outputs": [
    {
     "data": {
      "text/html": [
       "<div>\n",
       "<style scoped>\n",
       "    .dataframe tbody tr th:only-of-type {\n",
       "        vertical-align: middle;\n",
       "    }\n",
       "\n",
       "    .dataframe tbody tr th {\n",
       "        vertical-align: top;\n",
       "    }\n",
       "\n",
       "    .dataframe thead th {\n",
       "        text-align: right;\n",
       "    }\n",
       "</style>\n",
       "<table border=\"1\" class=\"dataframe\">\n",
       "  <thead>\n",
       "    <tr style=\"text-align: right;\">\n",
       "      <th></th>\n",
       "      <th>Date</th>\n",
       "      <th>Close</th>\n",
       "      <th>Open</th>\n",
       "      <th>High</th>\n",
       "      <th>Low</th>\n",
       "    </tr>\n",
       "  </thead>\n",
       "  <tbody>\n",
       "    <tr>\n",
       "      <th>0</th>\n",
       "      <td>2006-02-03</td>\n",
       "      <td>65.37</td>\n",
       "      <td>64.77</td>\n",
       "      <td>65.48</td>\n",
       "      <td>63.93</td>\n",
       "    </tr>\n",
       "    <tr>\n",
       "      <th>1</th>\n",
       "      <td>2006-02-06</td>\n",
       "      <td>65.11</td>\n",
       "      <td>66.35</td>\n",
       "      <td>66.50</td>\n",
       "      <td>64.77</td>\n",
       "    </tr>\n",
       "    <tr>\n",
       "      <th>2</th>\n",
       "      <td>2006-02-07</td>\n",
       "      <td>63.09</td>\n",
       "      <td>64.82</td>\n",
       "      <td>64.90</td>\n",
       "      <td>62.81</td>\n",
       "    </tr>\n",
       "    <tr>\n",
       "      <th>3</th>\n",
       "      <td>2006-02-08</td>\n",
       "      <td>62.55</td>\n",
       "      <td>62.96</td>\n",
       "      <td>63.44</td>\n",
       "      <td>62.29</td>\n",
       "    </tr>\n",
       "    <tr>\n",
       "      <th>4</th>\n",
       "      <td>2006-02-09</td>\n",
       "      <td>62.62</td>\n",
       "      <td>62.68</td>\n",
       "      <td>63.73</td>\n",
       "      <td>62.38</td>\n",
       "    </tr>\n",
       "  </tbody>\n",
       "</table>\n",
       "</div>"
      ],
      "text/plain": [
       "        Date  Close   Open   High    Low\n",
       "0 2006-02-03  65.37  64.77  65.48  63.93\n",
       "1 2006-02-06  65.11  66.35  66.50  64.77\n",
       "2 2006-02-07  63.09  64.82  64.90  62.81\n",
       "3 2006-02-08  62.55  62.96  63.44  62.29\n",
       "4 2006-02-09  62.62  62.68  63.73  62.38"
      ]
     },
     "execution_count": 12,
     "metadata": {},
     "output_type": "execute_result"
    }
   ],
   "source": [
    "df.head()"
   ]
  },
  {
   "cell_type": "code",
   "execution_count": 13,
   "metadata": {},
   "outputs": [],
   "source": [
    "# For ease of work, the date becomes the index\n",
    "df.set_index('Date', inplace=True)"
   ]
  },
  {
   "cell_type": "code",
   "execution_count": 14,
   "metadata": {},
   "outputs": [
    {
     "data": {
      "text/html": [
       "<div>\n",
       "<style scoped>\n",
       "    .dataframe tbody tr th:only-of-type {\n",
       "        vertical-align: middle;\n",
       "    }\n",
       "\n",
       "    .dataframe tbody tr th {\n",
       "        vertical-align: top;\n",
       "    }\n",
       "\n",
       "    .dataframe thead th {\n",
       "        text-align: right;\n",
       "    }\n",
       "</style>\n",
       "<table border=\"1\" class=\"dataframe\">\n",
       "  <thead>\n",
       "    <tr style=\"text-align: right;\">\n",
       "      <th></th>\n",
       "      <th>Close</th>\n",
       "      <th>Open</th>\n",
       "      <th>High</th>\n",
       "      <th>Low</th>\n",
       "    </tr>\n",
       "    <tr>\n",
       "      <th>Date</th>\n",
       "      <th></th>\n",
       "      <th></th>\n",
       "      <th></th>\n",
       "      <th></th>\n",
       "    </tr>\n",
       "  </thead>\n",
       "  <tbody>\n",
       "    <tr>\n",
       "      <th>2006-02-03</th>\n",
       "      <td>65.37</td>\n",
       "      <td>64.77</td>\n",
       "      <td>65.48</td>\n",
       "      <td>63.93</td>\n",
       "    </tr>\n",
       "    <tr>\n",
       "      <th>2006-02-06</th>\n",
       "      <td>65.11</td>\n",
       "      <td>66.35</td>\n",
       "      <td>66.50</td>\n",
       "      <td>64.77</td>\n",
       "    </tr>\n",
       "    <tr>\n",
       "      <th>2006-02-07</th>\n",
       "      <td>63.09</td>\n",
       "      <td>64.82</td>\n",
       "      <td>64.90</td>\n",
       "      <td>62.81</td>\n",
       "    </tr>\n",
       "    <tr>\n",
       "      <th>2006-02-08</th>\n",
       "      <td>62.55</td>\n",
       "      <td>62.96</td>\n",
       "      <td>63.44</td>\n",
       "      <td>62.29</td>\n",
       "    </tr>\n",
       "    <tr>\n",
       "      <th>2006-02-09</th>\n",
       "      <td>62.62</td>\n",
       "      <td>62.68</td>\n",
       "      <td>63.73</td>\n",
       "      <td>62.38</td>\n",
       "    </tr>\n",
       "  </tbody>\n",
       "</table>\n",
       "</div>"
      ],
      "text/plain": [
       "            Close   Open   High    Low\n",
       "Date                                  \n",
       "2006-02-03  65.37  64.77  65.48  63.93\n",
       "2006-02-06  65.11  66.35  66.50  64.77\n",
       "2006-02-07  63.09  64.82  64.90  62.81\n",
       "2006-02-08  62.55  62.96  63.44  62.29\n",
       "2006-02-09  62.62  62.68  63.73  62.38"
      ]
     },
     "execution_count": 14,
     "metadata": {},
     "output_type": "execute_result"
    }
   ],
   "source": [
    "df.head()"
   ]
  },
  {
   "cell_type": "markdown",
   "metadata": {},
   "source": [
    "#### Missing values\n",
    "Since the all the data types are all correct, we will now be observing the missing value in each column. Once identified, we will identify the best practice to deal with the missing values."
   ]
  },
  {
   "cell_type": "code",
   "execution_count": 15,
   "metadata": {},
   "outputs": [
    {
     "name": "stdout",
     "output_type": "stream",
     "text": [
      "<class 'pandas.core.frame.DataFrame'>\n",
      "DatetimeIndex: 3614 entries, 2006-02-03 to 2020-03-11\n",
      "Data columns (total 4 columns):\n",
      " #   Column  Non-Null Count  Dtype  \n",
      "---  ------  --------------  -----  \n",
      " 0   Close   3614 non-null   float64\n",
      " 1   Open    3554 non-null   float64\n",
      " 2   High    3595 non-null   float64\n",
      " 3   Low     3602 non-null   float64\n",
      "dtypes: float64(4)\n",
      "memory usage: 141.2 KB\n"
     ]
    }
   ],
   "source": [
    "# We can see the number of non-missing value from df.info()\n",
    "df.info()"
   ]
  },
  {
   "cell_type": "markdown",
   "metadata": {},
   "source": [
    "The dataset contains `3,614` entries. And column `Close` doe not have any missing values. We can confirm it by running the following code:"
   ]
  },
  {
   "cell_type": "code",
   "execution_count": 16,
   "metadata": {},
   "outputs": [
    {
     "data": {
      "text/plain": [
       "Close    0\n",
       "dtype: int64"
      ]
     },
     "execution_count": 16,
     "metadata": {},
     "output_type": "execute_result"
    }
   ],
   "source": [
    "df[['Close']].isnull().sum()"
   ]
  },
  {
   "cell_type": "markdown",
   "metadata": {},
   "source": [
    "#### Removing unused columns/features\n",
    "\n",
    "\n",
    "Our concern is only the closing price because we will be predicting WTI price solely based on the closing price. Thus, other columns will not be needed."
   ]
  },
  {
   "cell_type": "code",
   "execution_count": 17,
   "metadata": {},
   "outputs": [
    {
     "data": {
      "text/html": [
       "<div>\n",
       "<style scoped>\n",
       "    .dataframe tbody tr th:only-of-type {\n",
       "        vertical-align: middle;\n",
       "    }\n",
       "\n",
       "    .dataframe tbody tr th {\n",
       "        vertical-align: top;\n",
       "    }\n",
       "\n",
       "    .dataframe thead th {\n",
       "        text-align: right;\n",
       "    }\n",
       "</style>\n",
       "<table border=\"1\" class=\"dataframe\">\n",
       "  <thead>\n",
       "    <tr style=\"text-align: right;\">\n",
       "      <th></th>\n",
       "      <th>Close</th>\n",
       "    </tr>\n",
       "    <tr>\n",
       "      <th>Date</th>\n",
       "      <th></th>\n",
       "    </tr>\n",
       "  </thead>\n",
       "  <tbody>\n",
       "    <tr>\n",
       "      <th>2006-02-03</th>\n",
       "      <td>65.37</td>\n",
       "    </tr>\n",
       "    <tr>\n",
       "      <th>2006-02-06</th>\n",
       "      <td>65.11</td>\n",
       "    </tr>\n",
       "    <tr>\n",
       "      <th>2006-02-07</th>\n",
       "      <td>63.09</td>\n",
       "    </tr>\n",
       "    <tr>\n",
       "      <th>2006-02-08</th>\n",
       "      <td>62.55</td>\n",
       "    </tr>\n",
       "    <tr>\n",
       "      <th>2006-02-09</th>\n",
       "      <td>62.62</td>\n",
       "    </tr>\n",
       "  </tbody>\n",
       "</table>\n",
       "</div>"
      ],
      "text/plain": [
       "            Close\n",
       "Date             \n",
       "2006-02-03  65.37\n",
       "2006-02-06  65.11\n",
       "2006-02-07  63.09\n",
       "2006-02-08  62.55\n",
       "2006-02-09  62.62"
      ]
     },
     "execution_count": 17,
     "metadata": {},
     "output_type": "execute_result"
    }
   ],
   "source": [
    "# We just want the close price\n",
    "wti = df[['Close']].copy()\n",
    "wti.head()"
   ]
  },
  {
   "cell_type": "markdown",
   "metadata": {},
   "source": [
    "#### Creating a column for the dependent variable"
   ]
  },
  {
   "cell_type": "code",
   "execution_count": 18,
   "metadata": {},
   "outputs": [
    {
     "data": {
      "text/html": [
       "<div>\n",
       "<style scoped>\n",
       "    .dataframe tbody tr th:only-of-type {\n",
       "        vertical-align: middle;\n",
       "    }\n",
       "\n",
       "    .dataframe tbody tr th {\n",
       "        vertical-align: top;\n",
       "    }\n",
       "\n",
       "    .dataframe thead th {\n",
       "        text-align: right;\n",
       "    }\n",
       "</style>\n",
       "<table border=\"1\" class=\"dataframe\">\n",
       "  <thead>\n",
       "    <tr style=\"text-align: right;\">\n",
       "      <th></th>\n",
       "      <th>Close</th>\n",
       "      <th>Prediction</th>\n",
       "    </tr>\n",
       "    <tr>\n",
       "      <th>Date</th>\n",
       "      <th></th>\n",
       "      <th></th>\n",
       "    </tr>\n",
       "  </thead>\n",
       "  <tbody>\n",
       "    <tr>\n",
       "      <th>2020-01-28</th>\n",
       "      <td>53.48</td>\n",
       "      <td>32.98</td>\n",
       "    </tr>\n",
       "    <tr>\n",
       "      <th>2020-01-29</th>\n",
       "      <td>53.33</td>\n",
       "      <td>NaN</td>\n",
       "    </tr>\n",
       "    <tr>\n",
       "      <th>2020-01-30</th>\n",
       "      <td>52.14</td>\n",
       "      <td>NaN</td>\n",
       "    </tr>\n",
       "    <tr>\n",
       "      <th>2020-01-31</th>\n",
       "      <td>51.56</td>\n",
       "      <td>NaN</td>\n",
       "    </tr>\n",
       "    <tr>\n",
       "      <th>2020-02-03</th>\n",
       "      <td>50.11</td>\n",
       "      <td>NaN</td>\n",
       "    </tr>\n",
       "    <tr>\n",
       "      <th>2020-02-04</th>\n",
       "      <td>49.61</td>\n",
       "      <td>NaN</td>\n",
       "    </tr>\n",
       "    <tr>\n",
       "      <th>2020-02-05</th>\n",
       "      <td>50.75</td>\n",
       "      <td>NaN</td>\n",
       "    </tr>\n",
       "    <tr>\n",
       "      <th>2020-02-06</th>\n",
       "      <td>50.95</td>\n",
       "      <td>NaN</td>\n",
       "    </tr>\n",
       "    <tr>\n",
       "      <th>2020-02-07</th>\n",
       "      <td>50.32</td>\n",
       "      <td>NaN</td>\n",
       "    </tr>\n",
       "    <tr>\n",
       "      <th>2020-02-10</th>\n",
       "      <td>49.57</td>\n",
       "      <td>NaN</td>\n",
       "    </tr>\n",
       "    <tr>\n",
       "      <th>2020-02-11</th>\n",
       "      <td>49.94</td>\n",
       "      <td>NaN</td>\n",
       "    </tr>\n",
       "    <tr>\n",
       "      <th>2020-02-12</th>\n",
       "      <td>51.17</td>\n",
       "      <td>NaN</td>\n",
       "    </tr>\n",
       "    <tr>\n",
       "      <th>2020-02-13</th>\n",
       "      <td>51.42</td>\n",
       "      <td>NaN</td>\n",
       "    </tr>\n",
       "    <tr>\n",
       "      <th>2020-02-14</th>\n",
       "      <td>52.05</td>\n",
       "      <td>NaN</td>\n",
       "    </tr>\n",
       "    <tr>\n",
       "      <th>2020-02-18</th>\n",
       "      <td>52.05</td>\n",
       "      <td>NaN</td>\n",
       "    </tr>\n",
       "    <tr>\n",
       "      <th>2020-02-19</th>\n",
       "      <td>53.29</td>\n",
       "      <td>NaN</td>\n",
       "    </tr>\n",
       "    <tr>\n",
       "      <th>2020-02-20</th>\n",
       "      <td>53.78</td>\n",
       "      <td>NaN</td>\n",
       "    </tr>\n",
       "    <tr>\n",
       "      <th>2020-02-21</th>\n",
       "      <td>53.38</td>\n",
       "      <td>NaN</td>\n",
       "    </tr>\n",
       "    <tr>\n",
       "      <th>2020-02-24</th>\n",
       "      <td>51.43</td>\n",
       "      <td>NaN</td>\n",
       "    </tr>\n",
       "    <tr>\n",
       "      <th>2020-02-25</th>\n",
       "      <td>49.90</td>\n",
       "      <td>NaN</td>\n",
       "    </tr>\n",
       "    <tr>\n",
       "      <th>2020-02-26</th>\n",
       "      <td>48.73</td>\n",
       "      <td>NaN</td>\n",
       "    </tr>\n",
       "    <tr>\n",
       "      <th>2020-02-27</th>\n",
       "      <td>47.09</td>\n",
       "      <td>NaN</td>\n",
       "    </tr>\n",
       "    <tr>\n",
       "      <th>2020-02-28</th>\n",
       "      <td>44.76</td>\n",
       "      <td>NaN</td>\n",
       "    </tr>\n",
       "    <tr>\n",
       "      <th>2020-03-02</th>\n",
       "      <td>46.75</td>\n",
       "      <td>NaN</td>\n",
       "    </tr>\n",
       "    <tr>\n",
       "      <th>2020-03-03</th>\n",
       "      <td>47.18</td>\n",
       "      <td>NaN</td>\n",
       "    </tr>\n",
       "    <tr>\n",
       "      <th>2020-03-04</th>\n",
       "      <td>46.78</td>\n",
       "      <td>NaN</td>\n",
       "    </tr>\n",
       "    <tr>\n",
       "      <th>2020-03-05</th>\n",
       "      <td>45.90</td>\n",
       "      <td>NaN</td>\n",
       "    </tr>\n",
       "    <tr>\n",
       "      <th>2020-03-06</th>\n",
       "      <td>41.28</td>\n",
       "      <td>NaN</td>\n",
       "    </tr>\n",
       "    <tr>\n",
       "      <th>2020-03-09</th>\n",
       "      <td>31.13</td>\n",
       "      <td>NaN</td>\n",
       "    </tr>\n",
       "    <tr>\n",
       "      <th>2020-03-10</th>\n",
       "      <td>34.36</td>\n",
       "      <td>NaN</td>\n",
       "    </tr>\n",
       "    <tr>\n",
       "      <th>2020-03-11</th>\n",
       "      <td>32.98</td>\n",
       "      <td>NaN</td>\n",
       "    </tr>\n",
       "  </tbody>\n",
       "</table>\n",
       "</div>"
      ],
      "text/plain": [
       "            Close  Prediction\n",
       "Date                         \n",
       "2020-01-28  53.48       32.98\n",
       "2020-01-29  53.33         NaN\n",
       "2020-01-30  52.14         NaN\n",
       "2020-01-31  51.56         NaN\n",
       "2020-02-03  50.11         NaN\n",
       "2020-02-04  49.61         NaN\n",
       "2020-02-05  50.75         NaN\n",
       "2020-02-06  50.95         NaN\n",
       "2020-02-07  50.32         NaN\n",
       "2020-02-10  49.57         NaN\n",
       "2020-02-11  49.94         NaN\n",
       "2020-02-12  51.17         NaN\n",
       "2020-02-13  51.42         NaN\n",
       "2020-02-14  52.05         NaN\n",
       "2020-02-18  52.05         NaN\n",
       "2020-02-19  53.29         NaN\n",
       "2020-02-20  53.78         NaN\n",
       "2020-02-21  53.38         NaN\n",
       "2020-02-24  51.43         NaN\n",
       "2020-02-25  49.90         NaN\n",
       "2020-02-26  48.73         NaN\n",
       "2020-02-27  47.09         NaN\n",
       "2020-02-28  44.76         NaN\n",
       "2020-03-02  46.75         NaN\n",
       "2020-03-03  47.18         NaN\n",
       "2020-03-04  46.78         NaN\n",
       "2020-03-05  45.90         NaN\n",
       "2020-03-06  41.28         NaN\n",
       "2020-03-09  31.13         NaN\n",
       "2020-03-10  34.36         NaN\n",
       "2020-03-11  32.98         NaN"
      ]
     },
     "execution_count": 18,
     "metadata": {},
     "output_type": "execute_result"
    }
   ],
   "source": [
    "# 'n' days prediction \n",
    "forecast_out = 30\n",
    "# Create column for target or dependent variable - shifted 'n' up\n",
    "wti['Prediction'] = df['Close'].shift(-forecast_out).copy()\n",
    "# The latest data becomes the prediction for the previous data\n",
    "wti.tail(31)"
   ]
  },
  {
   "cell_type": "markdown",
   "metadata": {},
   "source": [
    "As we can see, the data closing price for date `2020-03-11` is used as the prediction for the closing price for date `2020-01-28` - which is `30` days interval. \n",
    "\n",
    "#### Scale the data\n",
    "Now let us see how the data looks like once plotted."
   ]
  },
  {
   "cell_type": "code",
   "execution_count": 19,
   "metadata": {},
   "outputs": [
    {
     "data": {
      "image/png": "[encoded data removed]",
      "text/plain": [
       "<Figure size 432x288 with 1 Axes>"
      ]
     },
     "metadata": {
      "needs_background": "light"
     },
     "output_type": "display_data"
    }
   ],
   "source": [
    "wti[['Close']].plot()\n",
    "plt.title('WTI Crued Oil Price')\n",
    "plt.xlabel('Year')\n",
    "plt.ylabel('WTI Close Prise ($)')\n",
    "plt.show()"
   ]
  },
  {
   "cell_type": "code",
   "execution_count": 20,
   "metadata": {},
   "outputs": [
    {
     "data": {
      "text/plain": [
       "array([[0.31575342, 0.29349315],\n",
       "       [0.3135274 , 0.28655822],\n",
       "       [0.29623288, 0.28981164],\n",
       "       ...,\n",
       "       [0.02260274,        nan],\n",
       "       [0.05025685,        nan],\n",
       "       [0.03844178,        nan]])"
      ]
     },
     "execution_count": 20,
     "metadata": {},
     "output_type": "execute_result"
    }
   ],
   "source": [
    "scaler = MinMaxScaler(feature_range=(0,1))\n",
    "scaled_wti = scaler.fit_transform(wti)\n",
    "scaled_wti"
   ]
  },
  {
   "cell_type": "code",
   "execution_count": 21,
   "metadata": {},
   "outputs": [
    {
     "data": {
      "image/png": "[encoded data removed]",
      "text/plain": [
       "<Figure size 432x288 with 1 Axes>"
      ]
     },
     "metadata": {
      "needs_background": "light"
     },
     "output_type": "display_data"
    }
   ],
   "source": [
    "plt.plot(wti['Close'], label='Before')\n",
    "plt.plot(wti.index,[i[0] for i in scaled_wti], label='After')\n",
    "plt.legend()\n",
    "plt.xlabel('Year')\n",
    "plt.ylabel('WTI Closing Price ($)')\n",
    "plt.title('WTI Price Before and After Scaling')\n",
    "plt.show()"
   ]
  },
  {
   "cell_type": "markdown",
   "metadata": {},
   "source": [
    "### Step 3: Splitting the dataset"
   ]
  },
  {
   "cell_type": "markdown",
   "metadata": {},
   "source": [
    "### Create the independent data set, X\n",
    "------------------\n",
    "Convert the dataframe to a numpy array."
   ]
  },
  {
   "cell_type": "code",
   "execution_count": 22,
   "metadata": {},
   "outputs": [
    {
     "data": {
      "text/plain": [
       "array([[0.31575342],\n",
       "       [0.3135274 ],\n",
       "       [0.29623288],\n",
       "       ...,\n",
       "       [0.22003425],\n",
       "       [0.21104452],\n",
       "       [0.21395548]])"
      ]
     },
     "execution_count": 22,
     "metadata": {},
     "output_type": "execute_result"
    }
   ],
   "source": [
    "x = [[i[0]] for i in scaled_wti]\n",
    "x = np.array(x[:-forecast_out])\n",
    "x"
   ]
  },
  {
   "cell_type": "code",
   "execution_count": 23,
   "metadata": {},
   "outputs": [
    {
     "data": {
      "text/plain": [
       "array([0.29349315, 0.28655822, 0.28981164, ..., 0.02260274, 0.05025685,\n",
       "       0.03844178])"
      ]
     },
     "execution_count": 23,
     "metadata": {},
     "output_type": "execute_result"
    }
   ],
   "source": [
    "# Create the dependent data set y\n",
    "y = [i[1] for i in scaled_wti]\n",
    "y = np.array(y[:-forecast_out])\n",
    "y"
   ]
  },
  {
   "cell_type": "code",
   "execution_count": 24,
   "metadata": {},
   "outputs": [],
   "source": [
    "# Split the data into 80% training and 20% testing\n",
    "x_train, x_test, y_train, y_test = train_test_split(\n",
    "    x,\n",
    "    y,\n",
    "    test_size=0.2,\n",
    "    random_state=0\n",
    ")"
   ]
  },
  {
   "cell_type": "markdown",
   "metadata": {},
   "source": [
    "### Step 4: Modeling"
   ]
  },
  {
   "cell_type": "markdown",
   "metadata": {},
   "source": [
    "#### Building SVM model"
   ]
  },
  {
   "cell_type": "code",
   "execution_count": null,
   "metadata": {},
   "outputs": [],
   "source": [
    "# Create and train the Support Vector Machine (Regressor)\n",
    "svr_rbf = SVR(kernel='rbf', C=1e3, gamma=0.1)\n",
    "svr_rbf.fit(x_train, y_train)"
   ]
  },
  {
   "cell_type": "code",
   "execution_count": 26,
   "metadata": {},
   "outputs": [],
   "source": [
    "# Testing model: score returns the coefficient of determination R^2 of the prediction.\n",
    "svm_confidence = svr_rbf.score(x_test, y_test)"
   ]
  },
  {
   "cell_type": "code",
   "execution_count": 27,
   "metadata": {},
   "outputs": [
    {
     "data": {
      "text/plain": [
       "0.8377796240609962"
      ]
     },
     "execution_count": 27,
     "metadata": {},
     "output_type": "execute_result"
    }
   ],
   "source": [
    "svm_confidence"
   ]
  },
  {
   "cell_type": "markdown",
   "metadata": {},
   "source": [
    "#### Building Linear Regression model"
   ]
  },
  {
   "cell_type": "code",
   "execution_count": 28,
   "metadata": {},
   "outputs": [
    {
     "data": {
      "text/plain": [
       "LinearRegression()"
      ]
     },
     "execution_count": 28,
     "metadata": {},
     "output_type": "execute_result"
    }
   ],
   "source": [
    "# create lr and train linear regression\n",
    "lr = LinearRegression()\n",
    "lr.fit(x_train, y_train)"
   ]
  },
  {
   "cell_type": "code",
   "execution_count": 29,
   "metadata": {},
   "outputs": [],
   "source": [
    "lr_confidence = lr.score(x_test, y_test)"
   ]
  },
  {
   "cell_type": "code",
   "execution_count": 30,
   "metadata": {},
   "outputs": [
    {
     "data": {
      "text/plain": [
       "0.8357455001237974"
      ]
     },
     "execution_count": 30,
     "metadata": {},
     "output_type": "execute_result"
    }
   ],
   "source": [
    "lr_confidence"
   ]
  },
  {
   "cell_type": "markdown",
   "metadata": {},
   "source": [
    "### Step 5: Predict using the model"
   ]
  },
  {
   "cell_type": "code",
   "execution_count": 31,
   "metadata": {},
   "outputs": [
    {
     "data": {
      "text/html": [
       "<div>\n",
       "<style scoped>\n",
       "    .dataframe tbody tr th:only-of-type {\n",
       "        vertical-align: middle;\n",
       "    }\n",
       "\n",
       "    .dataframe tbody tr th {\n",
       "        vertical-align: top;\n",
       "    }\n",
       "\n",
       "    .dataframe thead th {\n",
       "        text-align: right;\n",
       "    }\n",
       "</style>\n",
       "<table border=\"1\" class=\"dataframe\">\n",
       "  <thead>\n",
       "    <tr style=\"text-align: right;\">\n",
       "      <th></th>\n",
       "      <th>Close</th>\n",
       "      <th>Prediction</th>\n",
       "    </tr>\n",
       "  </thead>\n",
       "  <tbody>\n",
       "    <tr>\n",
       "      <th>3583</th>\n",
       "      <td>53.48</td>\n",
       "      <td>32.980000</td>\n",
       "    </tr>\n",
       "    <tr>\n",
       "      <th>3584</th>\n",
       "      <td>53.33</td>\n",
       "      <td>54.716832</td>\n",
       "    </tr>\n",
       "    <tr>\n",
       "      <th>3585</th>\n",
       "      <td>52.14</td>\n",
       "      <td>53.617962</td>\n",
       "    </tr>\n",
       "    <tr>\n",
       "      <th>3586</th>\n",
       "      <td>51.56</td>\n",
       "      <td>53.082378</td>\n",
       "    </tr>\n",
       "    <tr>\n",
       "      <th>3587</th>\n",
       "      <td>50.11</td>\n",
       "      <td>51.743419</td>\n",
       "    </tr>\n",
       "    <tr>\n",
       "      <th>3588</th>\n",
       "      <td>49.61</td>\n",
       "      <td>51.281709</td>\n",
       "    </tr>\n",
       "    <tr>\n",
       "      <th>3589</th>\n",
       "      <td>50.75</td>\n",
       "      <td>52.334408</td>\n",
       "    </tr>\n",
       "    <tr>\n",
       "      <th>3590</th>\n",
       "      <td>50.95</td>\n",
       "      <td>52.519092</td>\n",
       "    </tr>\n",
       "    <tr>\n",
       "      <th>3591</th>\n",
       "      <td>50.32</td>\n",
       "      <td>51.937337</td>\n",
       "    </tr>\n",
       "    <tr>\n",
       "      <th>3592</th>\n",
       "      <td>49.57</td>\n",
       "      <td>51.244772</td>\n",
       "    </tr>\n",
       "    <tr>\n",
       "      <th>3593</th>\n",
       "      <td>49.94</td>\n",
       "      <td>51.586438</td>\n",
       "    </tr>\n",
       "    <tr>\n",
       "      <th>3594</th>\n",
       "      <td>51.17</td>\n",
       "      <td>52.722244</td>\n",
       "    </tr>\n",
       "    <tr>\n",
       "      <th>3595</th>\n",
       "      <td>51.42</td>\n",
       "      <td>52.953099</td>\n",
       "    </tr>\n",
       "    <tr>\n",
       "      <th>3596</th>\n",
       "      <td>52.05</td>\n",
       "      <td>53.534854</td>\n",
       "    </tr>\n",
       "    <tr>\n",
       "      <th>3597</th>\n",
       "      <td>52.05</td>\n",
       "      <td>53.534854</td>\n",
       "    </tr>\n",
       "    <tr>\n",
       "      <th>3598</th>\n",
       "      <td>53.29</td>\n",
       "      <td>54.679895</td>\n",
       "    </tr>\n",
       "    <tr>\n",
       "      <th>3599</th>\n",
       "      <td>53.78</td>\n",
       "      <td>55.132371</td>\n",
       "    </tr>\n",
       "    <tr>\n",
       "      <th>3600</th>\n",
       "      <td>53.38</td>\n",
       "      <td>54.763003</td>\n",
       "    </tr>\n",
       "    <tr>\n",
       "      <th>3601</th>\n",
       "      <td>51.43</td>\n",
       "      <td>52.962334</td>\n",
       "    </tr>\n",
       "    <tr>\n",
       "      <th>3602</th>\n",
       "      <td>49.90</td>\n",
       "      <td>51.549501</td>\n",
       "    </tr>\n",
       "    <tr>\n",
       "      <th>3603</th>\n",
       "      <td>48.73</td>\n",
       "      <td>50.469099</td>\n",
       "    </tr>\n",
       "    <tr>\n",
       "      <th>3604</th>\n",
       "      <td>47.09</td>\n",
       "      <td>48.954690</td>\n",
       "    </tr>\n",
       "    <tr>\n",
       "      <th>3605</th>\n",
       "      <td>44.76</td>\n",
       "      <td>46.803122</td>\n",
       "    </tr>\n",
       "    <tr>\n",
       "      <th>3606</th>\n",
       "      <td>46.75</td>\n",
       "      <td>48.640728</td>\n",
       "    </tr>\n",
       "    <tr>\n",
       "      <th>3607</th>\n",
       "      <td>47.18</td>\n",
       "      <td>49.037798</td>\n",
       "    </tr>\n",
       "    <tr>\n",
       "      <th>3608</th>\n",
       "      <td>46.78</td>\n",
       "      <td>48.668430</td>\n",
       "    </tr>\n",
       "    <tr>\n",
       "      <th>3609</th>\n",
       "      <td>45.90</td>\n",
       "      <td>47.855821</td>\n",
       "    </tr>\n",
       "    <tr>\n",
       "      <th>3610</th>\n",
       "      <td>41.28</td>\n",
       "      <td>43.589620</td>\n",
       "    </tr>\n",
       "    <tr>\n",
       "      <th>3611</th>\n",
       "      <td>31.13</td>\n",
       "      <td>34.216906</td>\n",
       "    </tr>\n",
       "    <tr>\n",
       "      <th>3612</th>\n",
       "      <td>34.36</td>\n",
       "      <td>37.199553</td>\n",
       "    </tr>\n",
       "    <tr>\n",
       "      <th>3613</th>\n",
       "      <td>32.98</td>\n",
       "      <td>35.925233</td>\n",
       "    </tr>\n",
       "  </tbody>\n",
       "</table>\n",
       "</div>"
      ],
      "text/plain": [
       "      Close  Prediction\n",
       "3583  53.48   32.980000\n",
       "3584  53.33   54.716832\n",
       "3585  52.14   53.617962\n",
       "3586  51.56   53.082378\n",
       "3587  50.11   51.743419\n",
       "3588  49.61   51.281709\n",
       "3589  50.75   52.334408\n",
       "3590  50.95   52.519092\n",
       "3591  50.32   51.937337\n",
       "3592  49.57   51.244772\n",
       "3593  49.94   51.586438\n",
       "3594  51.17   52.722244\n",
       "3595  51.42   52.953099\n",
       "3596  52.05   53.534854\n",
       "3597  52.05   53.534854\n",
       "3598  53.29   54.679895\n",
       "3599  53.78   55.132371\n",
       "3600  53.38   54.763003\n",
       "3601  51.43   52.962334\n",
       "3602  49.90   51.549501\n",
       "3603  48.73   50.469099\n",
       "3604  47.09   48.954690\n",
       "3605  44.76   46.803122\n",
       "3606  46.75   48.640728\n",
       "3607  47.18   49.037798\n",
       "3608  46.78   48.668430\n",
       "3609  45.90   47.855821\n",
       "3610  41.28   43.589620\n",
       "3611  31.13   34.216906\n",
       "3612  34.36   37.199553\n",
       "3613  32.98   35.925233"
      ]
     },
     "execution_count": 31,
     "metadata": {},
     "output_type": "execute_result"
    }
   ],
   "source": [
    "# print the prediciton for the next 'n' days\n",
    "# set x_forecast equal to last 30 rows of the original data set from close column\n",
    "x_forecast = np.array([[i[0]] for i in scaled_wti][-30:])\n",
    "lr_prediction = lr.predict(x_forecast)\n",
    "lr_pred = scaled_wti.copy()\n",
    "lr_pred[-30:,1] = lr_prediction\n",
    "lr_result = pd.DataFrame(scaler.inverse_transform(lr_pred),columns=['Close', 'Prediction'])\n",
    "lr_result[-31:]"
   ]
  },
  {
   "cell_type": "code",
   "execution_count": 32,
   "metadata": {},
   "outputs": [
    {
     "data": {
      "text/html": [
       "<div>\n",
       "<style scoped>\n",
       "    .dataframe tbody tr th:only-of-type {\n",
       "        vertical-align: middle;\n",
       "    }\n",
       "\n",
       "    .dataframe tbody tr th {\n",
       "        vertical-align: top;\n",
       "    }\n",
       "\n",
       "    .dataframe thead th {\n",
       "        text-align: right;\n",
       "    }\n",
       "</style>\n",
       "<table border=\"1\" class=\"dataframe\">\n",
       "  <thead>\n",
       "    <tr style=\"text-align: right;\">\n",
       "      <th></th>\n",
       "      <th>Close</th>\n",
       "      <th>Prediction</th>\n",
       "    </tr>\n",
       "  </thead>\n",
       "  <tbody>\n",
       "    <tr>\n",
       "      <th>3583</th>\n",
       "      <td>53.48</td>\n",
       "      <td>32.980000</td>\n",
       "    </tr>\n",
       "    <tr>\n",
       "      <th>3584</th>\n",
       "      <td>53.33</td>\n",
       "      <td>52.499483</td>\n",
       "    </tr>\n",
       "    <tr>\n",
       "      <th>3585</th>\n",
       "      <td>52.14</td>\n",
       "      <td>51.452456</td>\n",
       "    </tr>\n",
       "    <tr>\n",
       "      <th>3586</th>\n",
       "      <td>51.56</td>\n",
       "      <td>50.947676</td>\n",
       "    </tr>\n",
       "    <tr>\n",
       "      <th>3587</th>\n",
       "      <td>50.11</td>\n",
       "      <td>49.702184</td>\n",
       "    </tr>\n",
       "    <tr>\n",
       "      <th>3588</th>\n",
       "      <td>49.61</td>\n",
       "      <td>49.278305</td>\n",
       "    </tr>\n",
       "    <tr>\n",
       "      <th>3589</th>\n",
       "      <td>50.75</td>\n",
       "      <td>50.248976</td>\n",
       "    </tr>\n",
       "    <tr>\n",
       "      <th>3590</th>\n",
       "      <td>50.95</td>\n",
       "      <td>50.420808</td>\n",
       "    </tr>\n",
       "    <tr>\n",
       "      <th>3591</th>\n",
       "      <td>50.32</td>\n",
       "      <td>49.881080</td>\n",
       "    </tr>\n",
       "    <tr>\n",
       "      <th>3592</th>\n",
       "      <td>49.57</td>\n",
       "      <td>49.244522</td>\n",
       "    </tr>\n",
       "    <tr>\n",
       "      <th>3593</th>\n",
       "      <td>49.94</td>\n",
       "      <td>49.557737</td>\n",
       "    </tr>\n",
       "    <tr>\n",
       "      <th>3594</th>\n",
       "      <td>51.17</td>\n",
       "      <td>50.610346</td>\n",
       "    </tr>\n",
       "    <tr>\n",
       "      <th>3595</th>\n",
       "      <td>51.42</td>\n",
       "      <td>50.826389</td>\n",
       "    </tr>\n",
       "    <tr>\n",
       "      <th>3596</th>\n",
       "      <td>52.05</td>\n",
       "      <td>51.373887</td>\n",
       "    </tr>\n",
       "    <tr>\n",
       "      <th>3597</th>\n",
       "      <td>52.05</td>\n",
       "      <td>51.373887</td>\n",
       "    </tr>\n",
       "    <tr>\n",
       "      <th>3598</th>\n",
       "      <td>53.29</td>\n",
       "      <td>52.464046</td>\n",
       "    </tr>\n",
       "    <tr>\n",
       "      <th>3599</th>\n",
       "      <td>53.78</td>\n",
       "      <td>52.899296</td>\n",
       "    </tr>\n",
       "    <tr>\n",
       "      <th>3600</th>\n",
       "      <td>53.38</td>\n",
       "      <td>52.543803</td>\n",
       "    </tr>\n",
       "    <tr>\n",
       "      <th>3601</th>\n",
       "      <td>51.43</td>\n",
       "      <td>50.835045</td>\n",
       "    </tr>\n",
       "    <tr>\n",
       "      <th>3602</th>\n",
       "      <td>49.90</td>\n",
       "      <td>49.523799</td>\n",
       "    </tr>\n",
       "    <tr>\n",
       "      <th>3603</th>\n",
       "      <td>48.73</td>\n",
       "      <td>48.539466</td>\n",
       "    </tr>\n",
       "    <tr>\n",
       "      <th>3604</th>\n",
       "      <td>47.09</td>\n",
       "      <td>47.187755</td>\n",
       "    </tr>\n",
       "    <tr>\n",
       "      <th>3605</th>\n",
       "      <td>44.76</td>\n",
       "      <td>45.326478</td>\n",
       "    </tr>\n",
       "    <tr>\n",
       "      <th>3606</th>\n",
       "      <td>46.75</td>\n",
       "      <td>46.911746</td>\n",
       "    </tr>\n",
       "    <tr>\n",
       "      <th>3607</th>\n",
       "      <td>47.18</td>\n",
       "      <td>47.261063</td>\n",
       "    </tr>\n",
       "    <tr>\n",
       "      <th>3608</th>\n",
       "      <td>46.78</td>\n",
       "      <td>46.936041</td>\n",
       "    </tr>\n",
       "    <tr>\n",
       "      <th>3609</th>\n",
       "      <td>45.90</td>\n",
       "      <td>46.228242</td>\n",
       "    </tr>\n",
       "    <tr>\n",
       "      <th>3610</th>\n",
       "      <td>41.28</td>\n",
       "      <td>42.684791</td>\n",
       "    </tr>\n",
       "    <tr>\n",
       "      <th>3611</th>\n",
       "      <td>31.13</td>\n",
       "      <td>36.053938</td>\n",
       "    </tr>\n",
       "    <tr>\n",
       "      <th>3612</th>\n",
       "      <td>34.36</td>\n",
       "      <td>37.977306</td>\n",
       "    </tr>\n",
       "    <tr>\n",
       "      <th>3613</th>\n",
       "      <td>32.98</td>\n",
       "      <td>37.133047</td>\n",
       "    </tr>\n",
       "  </tbody>\n",
       "</table>\n",
       "</div>"
      ],
      "text/plain": [
       "      Close  Prediction\n",
       "3583  53.48   32.980000\n",
       "3584  53.33   52.499483\n",
       "3585  52.14   51.452456\n",
       "3586  51.56   50.947676\n",
       "3587  50.11   49.702184\n",
       "3588  49.61   49.278305\n",
       "3589  50.75   50.248976\n",
       "3590  50.95   50.420808\n",
       "3591  50.32   49.881080\n",
       "3592  49.57   49.244522\n",
       "3593  49.94   49.557737\n",
       "3594  51.17   50.610346\n",
       "3595  51.42   50.826389\n",
       "3596  52.05   51.373887\n",
       "3597  52.05   51.373887\n",
       "3598  53.29   52.464046\n",
       "3599  53.78   52.899296\n",
       "3600  53.38   52.543803\n",
       "3601  51.43   50.835045\n",
       "3602  49.90   49.523799\n",
       "3603  48.73   48.539466\n",
       "3604  47.09   47.187755\n",
       "3605  44.76   45.326478\n",
       "3606  46.75   46.911746\n",
       "3607  47.18   47.261063\n",
       "3608  46.78   46.936041\n",
       "3609  45.90   46.228242\n",
       "3610  41.28   42.684791\n",
       "3611  31.13   36.053938\n",
       "3612  34.36   37.977306\n",
       "3613  32.98   37.133047"
      ]
     },
     "execution_count": 32,
     "metadata": {},
     "output_type": "execute_result"
    }
   ],
   "source": [
    "# Print the support vector regressor\n",
    "svm_prediction = svr_rbf.predict(x_forecast)\n",
    "svm_pred = scaled_wti.copy()\n",
    "svm_pred[-30:,1] = svm_prediction\n",
    "svm_result = pd.DataFrame(scaler.inverse_transform(svm_pred),columns=['Close', 'Prediction'])\n",
    "svm_result[-31:]"
   ]
  },
  {
   "cell_type": "code",
   "execution_count": 39,
   "metadata": {},
   "outputs": [
    {
     "data": {
      "image/png": "[encoded data removed]",
      "text/plain": [
       "<Figure size 432x288 with 1 Axes>"
      ]
     },
     "metadata": {
      "needs_background": "light"
     },
     "output_type": "display_data"
    }
   ],
   "source": [
    "plt.plot(wti.index[-30:],svm_prediction)\n",
    "plt.xticks(rotation=70)\n",
    "plt.show()"
   ]
  },
  {
   "cell_type": "code",
   "execution_count": 40,
   "metadata": {},
   "outputs": [
    {
     "data": {
      "image/png": "[encoded data removed]",
      "text/plain": [
       "<Figure size 432x288 with 1 Axes>"
      ]
     },
     "metadata": {
      "needs_background": "light"
     },
     "output_type": "display_data"
    }
   ],
   "source": [
    "plt.plot(wti.index[-30:], lr_prediction)\n",
    "plt.xticks(rotation=70)\n",
    "plt.show()"
   ]
  },
  {
   "cell_type": "code",
   "execution_count": null,
   "metadata": {},
   "outputs": [],
   "source": []
  }
 ],
 "metadata": {
  "kernelspec": {
   "display_name": "Python 3",
   "language": "python",
   "name": "python3"
  },
  "language_info": {
   "codemirror_mode": {
    "name": "ipython",
    "version": 3
   },
   "file_extension": ".py",
   "mimetype": "text/x-python",
   "name": "python",
   "nbconvert_exporter": "python",
   "pygments_lexer": "ipython3",
   "version": "3.8.2"
  }
 },
 "nbformat": 4,
 "nbformat_minor": 4
}

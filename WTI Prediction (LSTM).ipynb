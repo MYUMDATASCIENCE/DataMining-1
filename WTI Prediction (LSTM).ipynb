{
 "cells": [
  {
   "cell_type": "markdown",
   "metadata": {},
   "source": [
    "Muhammad Amirul Samsul Bahar, Universiti Malaya - WQD7005 Data Mining\n",
    "# Forecasting WTI Crude Oil Price\n",
    "------------------------------------\n",
    "This notebook explains on forecasting WTI crude oil closing price using an artificial recurrent neural network namely Long Short Term Memory (LSTM)."
   ]
  },
  {
   "cell_type": "code",
   "execution_count": 1,
   "metadata": {},
   "outputs": [
    {
     "name": "stderr",
     "output_type": "stream",
     "text": [
      "Using TensorFlow backend.\n"
     ]
    }
   ],
   "source": [
    "# Import the libraries\n",
    "import math\n",
    "import numpy as np\n",
    "import pandas as pd\n",
    "from sklearn.preprocessing import MinMaxScaler\n",
    "from sklearn.model_selection import train_test_split\n",
    "from keras.models import Sequential\n",
    "from keras.layers import Dense, LSTM\n",
    "import matplotlib.pyplot as plt\n",
    "from sklearn.metrics import mean_squared_error"
   ]
  },
  {
   "cell_type": "markdown",
   "metadata": {},
   "source": [
    "### Step 1: Load the Data\n",
    "---------------------------\n",
    "<div align='justify'>\n",
    "    \n",
    "In this step, we will load the WTI price dataset as dataframe using pandas' `read_csv()` method and have a glimpse on how the data looks like. Some of the methods that we will be using a lot in the first few steps are:\n",
    "* `DataFrame.info()`\n",
    "* `DataFrame.head()`\n",
    "* `DataFrame.tail()`\n",
    "\n",
    "The data is scrapped from a website called <a href=\"https://markets.businessinsider.com/\">Markets Insider</a>.\n",
    "\n",
    "</div>"
   ]
  },
  {
   "cell_type": "markdown",
   "metadata": {},
   "source": [
    "#### Read dataset from github as Pandas DataFrame"
   ]
  },
  {
   "cell_type": "code",
   "execution_count": 2,
   "metadata": {},
   "outputs": [],
   "source": [
    "# Get the scrapped data from github:\n",
    "github = 'https://raw.githubusercontent.com/muhdamirulsamsul/DataMining/master/wtiprice.csv'\n",
    "df = pd.read_csv(github)"
   ]
  },
  {
   "cell_type": "markdown",
   "metadata": {},
   "source": [
    "#### Print info of the dataset"
   ]
  },
  {
   "cell_type": "code",
   "execution_count": 3,
   "metadata": {},
   "outputs": [
    {
     "name": "stdout",
     "output_type": "stream",
     "text": [
      "<class 'pandas.core.frame.DataFrame'>\n",
      "RangeIndex: 3614 entries, 0 to 3613\n",
      "Data columns (total 5 columns):\n",
      " #   Column         Non-Null Count  Dtype  \n",
      "---  ------         --------------  -----  \n",
      " 0   Date           3614 non-null   object \n",
      " 1   Closing Price  3614 non-null   float64\n",
      " 2   Open           3554 non-null   float64\n",
      " 3   Daily High     3595 non-null   float64\n",
      " 4   Daily Low      3602 non-null   float64\n",
      "dtypes: float64(4), object(1)\n",
      "memory usage: 141.3+ KB\n"
     ]
    }
   ],
   "source": [
    "df.info()"
   ]
  },
  {
   "cell_type": "markdown",
   "metadata": {},
   "source": [
    "#### Have a glimpse on the dataset"
   ]
  },
  {
   "cell_type": "code",
   "execution_count": 4,
   "metadata": {},
   "outputs": [
    {
     "data": {
      "text/html": [
       "<div>\n",
       "<style scoped>\n",
       "    .dataframe tbody tr th:only-of-type {\n",
       "        vertical-align: middle;\n",
       "    }\n",
       "\n",
       "    .dataframe tbody tr th {\n",
       "        vertical-align: top;\n",
       "    }\n",
       "\n",
       "    .dataframe thead th {\n",
       "        text-align: right;\n",
       "    }\n",
       "</style>\n",
       "<table border=\"1\" class=\"dataframe\">\n",
       "  <thead>\n",
       "    <tr style=\"text-align: right;\">\n",
       "      <th></th>\n",
       "      <th>Date</th>\n",
       "      <th>Closing Price</th>\n",
       "      <th>Open</th>\n",
       "      <th>Daily High</th>\n",
       "      <th>Daily Low</th>\n",
       "    </tr>\n",
       "  </thead>\n",
       "  <tbody>\n",
       "    <tr>\n",
       "      <th>0</th>\n",
       "      <td>2020-03-11</td>\n",
       "      <td>32.98</td>\n",
       "      <td>34.62</td>\n",
       "      <td>36.35</td>\n",
       "      <td>32.56</td>\n",
       "    </tr>\n",
       "    <tr>\n",
       "      <th>1</th>\n",
       "      <td>2020-03-10</td>\n",
       "      <td>34.36</td>\n",
       "      <td>30.37</td>\n",
       "      <td>35.02</td>\n",
       "      <td>30.20</td>\n",
       "    </tr>\n",
       "    <tr>\n",
       "      <th>2</th>\n",
       "      <td>2020-03-09</td>\n",
       "      <td>31.13</td>\n",
       "      <td>32.87</td>\n",
       "      <td>34.88</td>\n",
       "      <td>27.34</td>\n",
       "    </tr>\n",
       "    <tr>\n",
       "      <th>3</th>\n",
       "      <td>2020-03-06</td>\n",
       "      <td>41.28</td>\n",
       "      <td>46.09</td>\n",
       "      <td>46.38</td>\n",
       "      <td>41.05</td>\n",
       "    </tr>\n",
       "    <tr>\n",
       "      <th>4</th>\n",
       "      <td>2020-03-05</td>\n",
       "      <td>45.90</td>\n",
       "      <td>47.13</td>\n",
       "      <td>47.57</td>\n",
       "      <td>45.65</td>\n",
       "    </tr>\n",
       "  </tbody>\n",
       "</table>\n",
       "</div>"
      ],
      "text/plain": [
       "         Date  Closing Price   Open  Daily High  Daily Low\n",
       "0  2020-03-11          32.98  34.62       36.35      32.56\n",
       "1  2020-03-10          34.36  30.37       35.02      30.20\n",
       "2  2020-03-09          31.13  32.87       34.88      27.34\n",
       "3  2020-03-06          41.28  46.09       46.38      41.05\n",
       "4  2020-03-05          45.90  47.13       47.57      45.65"
      ]
     },
     "execution_count": 4,
     "metadata": {},
     "output_type": "execute_result"
    }
   ],
   "source": [
    "df.head()"
   ]
  },
  {
   "cell_type": "code",
   "execution_count": 5,
   "metadata": {},
   "outputs": [
    {
     "data": {
      "text/html": [
       "<div>\n",
       "<style scoped>\n",
       "    .dataframe tbody tr th:only-of-type {\n",
       "        vertical-align: middle;\n",
       "    }\n",
       "\n",
       "    .dataframe tbody tr th {\n",
       "        vertical-align: top;\n",
       "    }\n",
       "\n",
       "    .dataframe thead th {\n",
       "        text-align: right;\n",
       "    }\n",
       "</style>\n",
       "<table border=\"1\" class=\"dataframe\">\n",
       "  <thead>\n",
       "    <tr style=\"text-align: right;\">\n",
       "      <th></th>\n",
       "      <th>Date</th>\n",
       "      <th>Closing Price</th>\n",
       "      <th>Open</th>\n",
       "      <th>Daily High</th>\n",
       "      <th>Daily Low</th>\n",
       "    </tr>\n",
       "  </thead>\n",
       "  <tbody>\n",
       "    <tr>\n",
       "      <th>3609</th>\n",
       "      <td>2006-02-09</td>\n",
       "      <td>62.62</td>\n",
       "      <td>62.68</td>\n",
       "      <td>63.73</td>\n",
       "      <td>62.38</td>\n",
       "    </tr>\n",
       "    <tr>\n",
       "      <th>3610</th>\n",
       "      <td>2006-02-08</td>\n",
       "      <td>62.55</td>\n",
       "      <td>62.96</td>\n",
       "      <td>63.44</td>\n",
       "      <td>62.29</td>\n",
       "    </tr>\n",
       "    <tr>\n",
       "      <th>3611</th>\n",
       "      <td>2006-02-07</td>\n",
       "      <td>63.09</td>\n",
       "      <td>64.82</td>\n",
       "      <td>64.90</td>\n",
       "      <td>62.81</td>\n",
       "    </tr>\n",
       "    <tr>\n",
       "      <th>3612</th>\n",
       "      <td>2006-02-06</td>\n",
       "      <td>65.11</td>\n",
       "      <td>66.35</td>\n",
       "      <td>66.50</td>\n",
       "      <td>64.77</td>\n",
       "    </tr>\n",
       "    <tr>\n",
       "      <th>3613</th>\n",
       "      <td>2006-02-03</td>\n",
       "      <td>65.37</td>\n",
       "      <td>64.77</td>\n",
       "      <td>65.48</td>\n",
       "      <td>63.93</td>\n",
       "    </tr>\n",
       "  </tbody>\n",
       "</table>\n",
       "</div>"
      ],
      "text/plain": [
       "            Date  Closing Price   Open  Daily High  Daily Low\n",
       "3609  2006-02-09          62.62  62.68       63.73      62.38\n",
       "3610  2006-02-08          62.55  62.96       63.44      62.29\n",
       "3611  2006-02-07          63.09  64.82       64.90      62.81\n",
       "3612  2006-02-06          65.11  66.35       66.50      64.77\n",
       "3613  2006-02-03          65.37  64.77       65.48      63.93"
      ]
     },
     "execution_count": 5,
     "metadata": {},
     "output_type": "execute_result"
    }
   ],
   "source": [
    "df.tail()"
   ]
  },
  {
   "cell_type": "markdown",
   "metadata": {},
   "source": [
    "### Step 2: Understanding and Cleaning the Data\n",
    "---------------------------\n",
    "<div align='justify'>\n",
    "We will try to have a proper look on the column names, the data type of each column, and the index. The date starts from year 2006 to 2020. The dataframe needs to be sorted reversely since it starts from year 2020 as you can see from the above table. It is quite troublesome to have a long name for the column. Thus, we will shorten the column names. Then, we will observe the data type of each column and determine wether the data type is appropriate or not. Plot of the data will help us to understand more about the data. We can see the maximum and minimum value quickly just by looking at the plot. Once plotted, we will scale the data.\n",
    "</div>"
   ]
  },
  {
   "cell_type": "markdown",
   "metadata": {},
   "source": [
    "#### Sorting the data"
   ]
  },
  {
   "cell_type": "code",
   "execution_count": 6,
   "metadata": {},
   "outputs": [],
   "source": [
    "# Sort index in descending order and then reset the index\n",
    "df = df.sort_index(ascending=False).reset_index(drop=True)"
   ]
  },
  {
   "cell_type": "code",
   "execution_count": 7,
   "metadata": {},
   "outputs": [
    {
     "data": {
      "text/html": [
       "<div>\n",
       "<style scoped>\n",
       "    .dataframe tbody tr th:only-of-type {\n",
       "        vertical-align: middle;\n",
       "    }\n",
       "\n",
       "    .dataframe tbody tr th {\n",
       "        vertical-align: top;\n",
       "    }\n",
       "\n",
       "    .dataframe thead th {\n",
       "        text-align: right;\n",
       "    }\n",
       "</style>\n",
       "<table border=\"1\" class=\"dataframe\">\n",
       "  <thead>\n",
       "    <tr style=\"text-align: right;\">\n",
       "      <th></th>\n",
       "      <th>Date</th>\n",
       "      <th>Closing Price</th>\n",
       "      <th>Open</th>\n",
       "      <th>Daily High</th>\n",
       "      <th>Daily Low</th>\n",
       "    </tr>\n",
       "  </thead>\n",
       "  <tbody>\n",
       "    <tr>\n",
       "      <th>0</th>\n",
       "      <td>2006-02-03</td>\n",
       "      <td>65.37</td>\n",
       "      <td>64.77</td>\n",
       "      <td>65.48</td>\n",
       "      <td>63.93</td>\n",
       "    </tr>\n",
       "    <tr>\n",
       "      <th>1</th>\n",
       "      <td>2006-02-06</td>\n",
       "      <td>65.11</td>\n",
       "      <td>66.35</td>\n",
       "      <td>66.50</td>\n",
       "      <td>64.77</td>\n",
       "    </tr>\n",
       "    <tr>\n",
       "      <th>2</th>\n",
       "      <td>2006-02-07</td>\n",
       "      <td>63.09</td>\n",
       "      <td>64.82</td>\n",
       "      <td>64.90</td>\n",
       "      <td>62.81</td>\n",
       "    </tr>\n",
       "    <tr>\n",
       "      <th>3</th>\n",
       "      <td>2006-02-08</td>\n",
       "      <td>62.55</td>\n",
       "      <td>62.96</td>\n",
       "      <td>63.44</td>\n",
       "      <td>62.29</td>\n",
       "    </tr>\n",
       "    <tr>\n",
       "      <th>4</th>\n",
       "      <td>2006-02-09</td>\n",
       "      <td>62.62</td>\n",
       "      <td>62.68</td>\n",
       "      <td>63.73</td>\n",
       "      <td>62.38</td>\n",
       "    </tr>\n",
       "  </tbody>\n",
       "</table>\n",
       "</div>"
      ],
      "text/plain": [
       "         Date  Closing Price   Open  Daily High  Daily Low\n",
       "0  2006-02-03          65.37  64.77       65.48      63.93\n",
       "1  2006-02-06          65.11  66.35       66.50      64.77\n",
       "2  2006-02-07          63.09  64.82       64.90      62.81\n",
       "3  2006-02-08          62.55  62.96       63.44      62.29\n",
       "4  2006-02-09          62.62  62.68       63.73      62.38"
      ]
     },
     "execution_count": 7,
     "metadata": {},
     "output_type": "execute_result"
    }
   ],
   "source": [
    "df.head()"
   ]
  },
  {
   "cell_type": "code",
   "execution_count": 8,
   "metadata": {},
   "outputs": [
    {
     "data": {
      "text/html": [
       "<div>\n",
       "<style scoped>\n",
       "    .dataframe tbody tr th:only-of-type {\n",
       "        vertical-align: middle;\n",
       "    }\n",
       "\n",
       "    .dataframe tbody tr th {\n",
       "        vertical-align: top;\n",
       "    }\n",
       "\n",
       "    .dataframe thead th {\n",
       "        text-align: right;\n",
       "    }\n",
       "</style>\n",
       "<table border=\"1\" class=\"dataframe\">\n",
       "  <thead>\n",
       "    <tr style=\"text-align: right;\">\n",
       "      <th></th>\n",
       "      <th>Date</th>\n",
       "      <th>Closing Price</th>\n",
       "      <th>Open</th>\n",
       "      <th>Daily High</th>\n",
       "      <th>Daily Low</th>\n",
       "    </tr>\n",
       "  </thead>\n",
       "  <tbody>\n",
       "    <tr>\n",
       "      <th>3609</th>\n",
       "      <td>2020-03-05</td>\n",
       "      <td>45.90</td>\n",
       "      <td>47.13</td>\n",
       "      <td>47.57</td>\n",
       "      <td>45.65</td>\n",
       "    </tr>\n",
       "    <tr>\n",
       "      <th>3610</th>\n",
       "      <td>2020-03-06</td>\n",
       "      <td>41.28</td>\n",
       "      <td>46.09</td>\n",
       "      <td>46.38</td>\n",
       "      <td>41.05</td>\n",
       "    </tr>\n",
       "    <tr>\n",
       "      <th>3611</th>\n",
       "      <td>2020-03-09</td>\n",
       "      <td>31.13</td>\n",
       "      <td>32.87</td>\n",
       "      <td>34.88</td>\n",
       "      <td>27.34</td>\n",
       "    </tr>\n",
       "    <tr>\n",
       "      <th>3612</th>\n",
       "      <td>2020-03-10</td>\n",
       "      <td>34.36</td>\n",
       "      <td>30.37</td>\n",
       "      <td>35.02</td>\n",
       "      <td>30.20</td>\n",
       "    </tr>\n",
       "    <tr>\n",
       "      <th>3613</th>\n",
       "      <td>2020-03-11</td>\n",
       "      <td>32.98</td>\n",
       "      <td>34.62</td>\n",
       "      <td>36.35</td>\n",
       "      <td>32.56</td>\n",
       "    </tr>\n",
       "  </tbody>\n",
       "</table>\n",
       "</div>"
      ],
      "text/plain": [
       "            Date  Closing Price   Open  Daily High  Daily Low\n",
       "3609  2020-03-05          45.90  47.13       47.57      45.65\n",
       "3610  2020-03-06          41.28  46.09       46.38      41.05\n",
       "3611  2020-03-09          31.13  32.87       34.88      27.34\n",
       "3612  2020-03-10          34.36  30.37       35.02      30.20\n",
       "3613  2020-03-11          32.98  34.62       36.35      32.56"
      ]
     },
     "execution_count": 8,
     "metadata": {},
     "output_type": "execute_result"
    }
   ],
   "source": [
    "df.tail()"
   ]
  },
  {
   "cell_type": "markdown",
   "metadata": {},
   "source": [
    "#### Changing the column names"
   ]
  },
  {
   "cell_type": "code",
   "execution_count": 9,
   "metadata": {},
   "outputs": [
    {
     "data": {
      "text/plain": [
       "Index(['Date', 'Close', 'Open', 'High', 'Low'], dtype='object')"
      ]
     },
     "execution_count": 9,
     "metadata": {},
     "output_type": "execute_result"
    }
   ],
   "source": [
    "# Changing the column names\n",
    "df.columns = ['Date', 'Close', 'Open', 'High', 'Low']\n",
    "df.columns"
   ]
  },
  {
   "cell_type": "markdown",
   "metadata": {},
   "source": [
    "#### Changing the datatype"
   ]
  },
  {
   "cell_type": "code",
   "execution_count": 10,
   "metadata": {},
   "outputs": [
    {
     "name": "stdout",
     "output_type": "stream",
     "text": [
      "<class 'pandas.core.frame.DataFrame'>\n",
      "RangeIndex: 3614 entries, 0 to 3613\n",
      "Data columns (total 5 columns):\n",
      " #   Column  Non-Null Count  Dtype         \n",
      "---  ------  --------------  -----         \n",
      " 0   Date    3614 non-null   datetime64[ns]\n",
      " 1   Close   3614 non-null   float64       \n",
      " 2   Open    3554 non-null   float64       \n",
      " 3   High    3595 non-null   float64       \n",
      " 4   Low     3602 non-null   float64       \n",
      "dtypes: datetime64[ns](1), float64(4)\n",
      "memory usage: 141.3 KB\n"
     ]
    }
   ],
   "source": [
    "# Change the data type for Date column\n",
    "df['Date'] = pd.to_datetime(df['Date'])\n",
    "# Making sure the data type is changed\n",
    "df.info()"
   ]
  },
  {
   "cell_type": "code",
   "execution_count": 11,
   "metadata": {},
   "outputs": [
    {
     "data": {
      "text/html": [
       "<div>\n",
       "<style scoped>\n",
       "    .dataframe tbody tr th:only-of-type {\n",
       "        vertical-align: middle;\n",
       "    }\n",
       "\n",
       "    .dataframe tbody tr th {\n",
       "        vertical-align: top;\n",
       "    }\n",
       "\n",
       "    .dataframe thead th {\n",
       "        text-align: right;\n",
       "    }\n",
       "</style>\n",
       "<table border=\"1\" class=\"dataframe\">\n",
       "  <thead>\n",
       "    <tr style=\"text-align: right;\">\n",
       "      <th></th>\n",
       "      <th>Close</th>\n",
       "      <th>Open</th>\n",
       "      <th>High</th>\n",
       "      <th>Low</th>\n",
       "    </tr>\n",
       "    <tr>\n",
       "      <th>Date</th>\n",
       "      <th></th>\n",
       "      <th></th>\n",
       "      <th></th>\n",
       "      <th></th>\n",
       "    </tr>\n",
       "  </thead>\n",
       "  <tbody>\n",
       "    <tr>\n",
       "      <th>2006-02-03</th>\n",
       "      <td>65.37</td>\n",
       "      <td>64.77</td>\n",
       "      <td>65.48</td>\n",
       "      <td>63.93</td>\n",
       "    </tr>\n",
       "    <tr>\n",
       "      <th>2006-02-06</th>\n",
       "      <td>65.11</td>\n",
       "      <td>66.35</td>\n",
       "      <td>66.50</td>\n",
       "      <td>64.77</td>\n",
       "    </tr>\n",
       "    <tr>\n",
       "      <th>2006-02-07</th>\n",
       "      <td>63.09</td>\n",
       "      <td>64.82</td>\n",
       "      <td>64.90</td>\n",
       "      <td>62.81</td>\n",
       "    </tr>\n",
       "    <tr>\n",
       "      <th>2006-02-08</th>\n",
       "      <td>62.55</td>\n",
       "      <td>62.96</td>\n",
       "      <td>63.44</td>\n",
       "      <td>62.29</td>\n",
       "    </tr>\n",
       "    <tr>\n",
       "      <th>2006-02-09</th>\n",
       "      <td>62.62</td>\n",
       "      <td>62.68</td>\n",
       "      <td>63.73</td>\n",
       "      <td>62.38</td>\n",
       "    </tr>\n",
       "  </tbody>\n",
       "</table>\n",
       "</div>"
      ],
      "text/plain": [
       "            Close   Open   High    Low\n",
       "Date                                  \n",
       "2006-02-03  65.37  64.77  65.48  63.93\n",
       "2006-02-06  65.11  66.35  66.50  64.77\n",
       "2006-02-07  63.09  64.82  64.90  62.81\n",
       "2006-02-08  62.55  62.96  63.44  62.29\n",
       "2006-02-09  62.62  62.68  63.73  62.38"
      ]
     },
     "execution_count": 11,
     "metadata": {},
     "output_type": "execute_result"
    }
   ],
   "source": [
    "# For ease of work, the date becomes the index\n",
    "df.set_index('Date', inplace=True)\n",
    "df.head()"
   ]
  },
  {
   "cell_type": "markdown",
   "metadata": {},
   "source": [
    "#### Removing unused columns/features\n",
    "\n",
    "Our concern is only the closing price because we will be predicting WTI price solely based on the closing price. Thus, other columns will not be needed."
   ]
  },
  {
   "cell_type": "code",
   "execution_count": 12,
   "metadata": {},
   "outputs": [
    {
     "data": {
      "text/html": [
       "<div>\n",
       "<style scoped>\n",
       "    .dataframe tbody tr th:only-of-type {\n",
       "        vertical-align: middle;\n",
       "    }\n",
       "\n",
       "    .dataframe tbody tr th {\n",
       "        vertical-align: top;\n",
       "    }\n",
       "\n",
       "    .dataframe thead th {\n",
       "        text-align: right;\n",
       "    }\n",
       "</style>\n",
       "<table border=\"1\" class=\"dataframe\">\n",
       "  <thead>\n",
       "    <tr style=\"text-align: right;\">\n",
       "      <th></th>\n",
       "      <th>Close</th>\n",
       "    </tr>\n",
       "    <tr>\n",
       "      <th>Date</th>\n",
       "      <th></th>\n",
       "    </tr>\n",
       "  </thead>\n",
       "  <tbody>\n",
       "    <tr>\n",
       "      <th>2006-02-03</th>\n",
       "      <td>65.37</td>\n",
       "    </tr>\n",
       "    <tr>\n",
       "      <th>2006-02-06</th>\n",
       "      <td>65.11</td>\n",
       "    </tr>\n",
       "    <tr>\n",
       "      <th>2006-02-07</th>\n",
       "      <td>63.09</td>\n",
       "    </tr>\n",
       "    <tr>\n",
       "      <th>2006-02-08</th>\n",
       "      <td>62.55</td>\n",
       "    </tr>\n",
       "    <tr>\n",
       "      <th>2006-02-09</th>\n",
       "      <td>62.62</td>\n",
       "    </tr>\n",
       "  </tbody>\n",
       "</table>\n",
       "</div>"
      ],
      "text/plain": [
       "            Close\n",
       "Date             \n",
       "2006-02-03  65.37\n",
       "2006-02-06  65.11\n",
       "2006-02-07  63.09\n",
       "2006-02-08  62.55\n",
       "2006-02-09  62.62"
      ]
     },
     "execution_count": 12,
     "metadata": {},
     "output_type": "execute_result"
    }
   ],
   "source": [
    "wti = df[['Close']].copy()\n",
    "wti.head()"
   ]
  },
  {
   "cell_type": "code",
   "execution_count": 13,
   "metadata": {},
   "outputs": [
    {
     "name": "stdout",
     "output_type": "stream",
     "text": [
      "<class 'pandas.core.frame.DataFrame'>\n",
      "DatetimeIndex: 3614 entries, 2006-02-03 to 2020-03-11\n",
      "Data columns (total 1 columns):\n",
      " #   Column  Non-Null Count  Dtype  \n",
      "---  ------  --------------  -----  \n",
      " 0   Close   3614 non-null   float64\n",
      "dtypes: float64(1)\n",
      "memory usage: 56.5 KB\n"
     ]
    }
   ],
   "source": [
    "wti.info()"
   ]
  },
  {
   "cell_type": "markdown",
   "metadata": {},
   "source": [
    "#### Detecting missing values\n",
    "\n",
    "The info above mentioned there are 3614 total entries of the dataset, and column `Close` has `3614` non-null values which means there is no missing value in the columns. For confirmation, we can simply run `DataFrame.isnull().sum()`."
   ]
  },
  {
   "cell_type": "code",
   "execution_count": 14,
   "metadata": {},
   "outputs": [
    {
     "data": {
      "text/plain": [
       "Close    0\n",
       "dtype: int64"
      ]
     },
     "execution_count": 14,
     "metadata": {},
     "output_type": "execute_result"
    }
   ],
   "source": [
    "wti.isnull().sum()"
   ]
  },
  {
   "cell_type": "markdown",
   "metadata": {},
   "source": [
    "#### Scale the data\n",
    "\n",
    "Now, let us see how the data looks like once plotted."
   ]
  },
  {
   "cell_type": "code",
   "execution_count": 15,
   "metadata": {},
   "outputs": [
    {
     "data": {
      "image/png": "[encoded data removed]",
      "text/plain": [
       "<Figure size 432x288 with 1 Axes>"
      ]
     },
     "metadata": {
      "needs_background": "light"
     },
     "output_type": "display_data"
    }
   ],
   "source": [
    "wti[['Close']].plot(legend=None)\n",
    "plt.title('WTI Crude Oil Price')\n",
    "plt.xlabel('Year')\n",
    "plt.ylabel('WTI Closing Price ($)')\n",
    "plt.show()"
   ]
  },
  {
   "cell_type": "code",
   "execution_count": 16,
   "metadata": {},
   "outputs": [
    {
     "data": {
      "text/plain": [
       "array([[0.31575342],\n",
       "       [0.3135274 ],\n",
       "       [0.29623288],\n",
       "       ...,\n",
       "       [0.02260274],\n",
       "       [0.05025685],\n",
       "       [0.03844178]])"
      ]
     },
     "execution_count": 16,
     "metadata": {},
     "output_type": "execute_result"
    }
   ],
   "source": [
    "scaler = MinMaxScaler(feature_range=(0,1))\n",
    "scaled_wti = scaler.fit_transform(wti)\n",
    "scaled_wti"
   ]
  },
  {
   "cell_type": "code",
   "execution_count": 17,
   "metadata": {},
   "outputs": [
    {
     "data": {
      "image/png": "[encoded data removed]",
      "text/plain": [
       "<Figure size 432x288 with 1 Axes>"
      ]
     },
     "metadata": {
      "needs_background": "light"
     },
     "output_type": "display_data"
    }
   ],
   "source": [
    "plt.plot(wti['Close'], label='Before')\n",
    "plt.plot(wti.index,scaled_wti, label='After')\n",
    "plt.legend()\n",
    "plt.xlabel('Year')\n",
    "plt.ylabel('WTI Closing Price ($)')\n",
    "plt.title('WTI Price Before and After Scaling')\n",
    "plt.show()"
   ]
  },
  {
   "cell_type": "markdown",
   "metadata": {},
   "source": [
    "### Splitting the Dataset"
   ]
  },
  {
   "cell_type": "markdown",
   "metadata": {},
   "source": [
    "We are now preparing the training dataset which will be used in our LSTM model. We will be splitting 80% training and 20% testing datasets."
   ]
  },
  {
   "cell_type": "code",
   "execution_count": 18,
   "metadata": {},
   "outputs": [
    {
     "data": {
      "text/plain": [
       "2892"
      ]
     },
     "execution_count": 18,
     "metadata": {},
     "output_type": "execute_result"
    }
   ],
   "source": [
    "train_len = math.ceil(len(scaled_wti)*.8)\n",
    "train_len"
   ]
  },
  {
   "cell_type": "markdown",
   "metadata": {},
   "source": [
    "#### Creating the training dataset"
   ]
  },
  {
   "cell_type": "code",
   "execution_count": 19,
   "metadata": {},
   "outputs": [],
   "source": [
    "train_data = [i[0] for i in scaled_wti[0:train_len]]"
   ]
  },
  {
   "cell_type": "code",
   "execution_count": 20,
   "metadata": {},
   "outputs": [],
   "source": [
    "# 'n' is number of days to predict out to the future\n",
    "n = 30\n",
    "\n",
    "# Split into x_train and y_train datasets\n",
    "x_train = []\n",
    "y_train = []\n",
    "for i in range(n,train_len):\n",
    "    x_train.append(train_data[i-n:i])\n",
    "    y_train.append(train_data[i])\n",
    "\n",
    "# covert x_train and y_train into numpy\n",
    "x_train, y_train = np.array(x_train), np.array(y_train)\n",
    "\n",
    "# reshape the data - lstm expect 3-dimensional data\n",
    "x_train = np.reshape(x_train,(x_train.shape[0],x_train.shape[1],1))"
   ]
  },
  {
   "cell_type": "markdown",
   "metadata": {},
   "source": [
    "#### Creating the testing dataset"
   ]
  },
  {
   "cell_type": "code",
   "execution_count": null,
   "metadata": {},
   "outputs": [],
   "source": [
    "# Create the test data\n",
    "# Create a new array containing scaled values from index\n",
    "test_data = [i[0] for i in scaled_wti[train_len-n:]]\n",
    "\n",
    "# Create the data sets x_test and y_test\n",
    "x_test = []\n",
    "\n",
    "# take the actual value of y\n",
    "y_test = wti[train_len:]\n",
    "for i in range(n, len(test_data)):\n",
    "    x_test.append(test_data[i-n:i])\n",
    "\n",
    "# convert to numpy array    \n",
    "x_test = np.array(x_test)\n",
    "\n",
    "# reshape the data\n",
    "x_test = np.reshape(x_test, (x_test.shape[0], x_test.shape[1], 1))"
   ]
  },
  {
   "cell_type": "markdown",
   "metadata": {},
   "source": [
    "### Step 3: Building the LSTM Model\n",
    "--------------------------------------------"
   ]
  },
  {
   "cell_type": "code",
   "execution_count": 22,
   "metadata": {},
   "outputs": [],
   "source": [
    "model = Sequential()\n",
    "# add lstm layer with 50 neuron\n",
    "model.add(\n",
    "    LSTM(50, return_sequences=True, input_shape=(x_train.shape[1],1))\n",
    ")\n",
    "model.add(\n",
    "    LSTM(50, return_sequences=False)\n",
    ")\n",
    "\n",
    "# add dense layer with 25 neuron\n",
    "model.add(Dense(25))\n",
    "\n",
    "# add dense layer with i neuron\n",
    "model.add(Dense(1))"
   ]
  },
  {
   "cell_type": "markdown",
   "metadata": {},
   "source": [
    "#### Compiling the model\n",
    "optimizer is used to improve the loss function,  and loss funtion is used to measure how the model did on training."
   ]
  },
  {
   "cell_type": "code",
   "execution_count": 23,
   "metadata": {},
   "outputs": [],
   "source": [
    "# compile the model\n",
    "model.compile(optimizer='adam', loss='mean_squared_error')"
   ]
  },
  {
   "cell_type": "code",
   "execution_count": 24,
   "metadata": {},
   "outputs": [
    {
     "name": "stdout",
     "output_type": "stream",
     "text": [
      "Epoch 1/10\n",
      "2862/2862 [==============================] - 69s 24ms/step - loss: 0.0014\n",
      "Epoch 2/10\n",
      "2862/2862 [==============================] - 67s 23ms/step - loss: 5.2040e-04\n",
      "Epoch 3/10\n",
      "2862/2862 [==============================] - 67s 23ms/step - loss: 4.1719e-04\n",
      "Epoch 4/10\n",
      "2862/2862 [==============================] - 67s 24ms/step - loss: 4.0749e-04\n",
      "Epoch 5/10\n",
      "2862/2862 [==============================] - 68s 24ms/step - loss: 3.8182e-04\n",
      "Epoch 6/10\n",
      "2862/2862 [==============================] - 67s 24ms/step - loss: 3.6400e-04\n",
      "Epoch 7/10\n",
      "2862/2862 [==============================] - 75s 26ms/step - loss: 3.7530e-04\n",
      "Epoch 8/10\n",
      "2862/2862 [==============================] - 69s 24ms/step - loss: 3.4288e-04\n",
      "Epoch 9/10\n",
      "2862/2862 [==============================] - 68s 24ms/step - loss: 3.3963e-04\n",
      "Epoch 10/10\n",
      "2862/2862 [==============================] - 68s 24ms/step - loss: 3.2077e-04\n"
     ]
    },
    {
     "data": {
      "text/plain": [
       "<keras.callbacks.callbacks.History at 0x7f227c87d760>"
      ]
     },
     "execution_count": 24,
     "metadata": {},
     "output_type": "execute_result"
    }
   ],
   "source": [
    "model.fit(x_train, y_train, batch_size=1, epochs=10)"
   ]
  },
  {
   "cell_type": "markdown",
   "metadata": {},
   "source": [
    "#### Prediction using the trained model"
   ]
  },
  {
   "cell_type": "code",
   "execution_count": 27,
   "metadata": {},
   "outputs": [],
   "source": [
    "# Predict price using the model\n",
    "predictions = model.predict(x_test)\n",
    "predictions = scaler.inverse_transform(predictions)"
   ]
  },
  {
   "cell_type": "markdown",
   "metadata": {},
   "source": [
    "#### Calculating the RMSE"
   ]
  },
  {
   "cell_type": "code",
   "execution_count": 47,
   "metadata": {},
   "outputs": [
    {
     "data": {
      "text/plain": [
       "1.694434763928092"
      ]
     },
     "execution_count": 47,
     "metadata": {},
     "output_type": "execute_result"
    }
   ],
   "source": [
    "rmse = np.sqrt(np.mean((predictions - y_test)**2))[0]\n",
    "rmse"
   ]
  },
  {
   "cell_type": "markdown",
   "metadata": {},
   "source": [
    "#### Plot the prediction"
   ]
  },
  {
   "cell_type": "code",
   "execution_count": 48,
   "metadata": {},
   "outputs": [
    {
     "data": {
      "image/png": "[encoded data removed]",
      "text/plain": [
       "<Figure size 432x288 with 1 Axes>"
      ]
     },
     "metadata": {
      "needs_background": "light"
     },
     "output_type": "display_data"
    }
   ],
   "source": [
    "# plot the data\n",
    "train = wti[:train_len].copy()\n",
    "valid = wti[train_len:].copy()\n",
    "valid['Predictions'] = predictions\n",
    "\n",
    "\n",
    "plt.title('Model')\n",
    "plt.xlabel('Date')\n",
    "plt.ylabel('Close Price USD ($)')\n",
    "# plt.plot(train, label='train')\n",
    "plt.plot(valid['Close'],label='Val')\n",
    "plt.plot(valid['Predictions'],label='Predictions')\n",
    "plt.legend()\n",
    "plt.show()\n"
   ]
  }
 ],
 "metadata": {
  "kernelspec": {
   "display_name": "Python 3",
   "language": "python",
   "name": "python3"
  },
  "language_info": {
   "codemirror_mode": {
    "name": "ipython",
    "version": 3
   },
   "file_extension": ".py",
   "mimetype": "text/x-python",
   "name": "python",
   "nbconvert_exporter": "python",
   "pygments_lexer": "ipython3",
   "version": "3.8.2"
  }
 },
 "nbformat": 4,
 "nbformat_minor": 4
}

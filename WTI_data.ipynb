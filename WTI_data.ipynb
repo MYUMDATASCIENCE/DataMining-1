{
 "cells": [
  {
   "cell_type": "markdown",
   "metadata": {},
   "source": [
    "## Data Cleaning\n",
    "------------------\n",
    "<div align='justify'>For this part, we will try to understand West Texas Intermediate (WTI) price data that we crawled from <a href=\"https://markets.businessinsider.com/\">Business Insider</a> webiste. Null values will be detected and removed if the frequency of the null values is small.\n",
    "\n",
    "Let us start with reading the crawled data from my <a href=\"https://github.com/muhdamirulsamsul/DataMining\">GitHub repository</a> using `pandas.read_csv()`. But before that, we will have to import all the necessary libraries.</div>"
   ]
  },
  {
   "cell_type": "code",
   "execution_count": 1,
   "metadata": {},
   "outputs": [],
   "source": [
    "import pandas as pd"
   ]
  },
  {
   "cell_type": "markdown",
   "metadata": {},
   "source": [
    "\n",
    "Read the csv file from the following link:\n",
    "`https://raw.githubusercontent.com/muhdamirulsamsul/DataMining/master/wtiprice.csv`\n",
    "<br/>and assign it to variable named `df`."
   ]
  },
  {
   "cell_type": "code",
   "execution_count": 2,
   "metadata": {},
   "outputs": [],
   "source": [
    "df = pd.read_csv('https://raw.githubusercontent.com/muhdamirulsamsul/DataMining/master/wtiprice.csv')"
   ]
  },
  {
   "cell_type": "markdown",
   "metadata": {},
   "source": [
    "Let us have a glimpse of how WTI price data looks. Simply use `DataFrame.head()` to return the first 5 rows of the dataframe and `DataFrame.tail()` to return the last 5 rows. "
   ]
  },
  {
   "cell_type": "code",
   "execution_count": 3,
   "metadata": {},
   "outputs": [
    {
     "data": {
      "text/html": [
       "<div>\n",
       "<style scoped>\n",
       "    .dataframe tbody tr th:only-of-type {\n",
       "        vertical-align: middle;\n",
       "    }\n",
       "\n",
       "    .dataframe tbody tr th {\n",
       "        vertical-align: top;\n",
       "    }\n",
       "\n",
       "    .dataframe thead th {\n",
       "        text-align: right;\n",
       "    }\n",
       "</style>\n",
       "<table border=\"1\" class=\"dataframe\">\n",
       "  <thead>\n",
       "    <tr style=\"text-align: right;\">\n",
       "      <th></th>\n",
       "      <th>Date</th>\n",
       "      <th>Closing Price</th>\n",
       "      <th>Open</th>\n",
       "      <th>Daily High</th>\n",
       "      <th>Daily Low</th>\n",
       "    </tr>\n",
       "  </thead>\n",
       "  <tbody>\n",
       "    <tr>\n",
       "      <th>0</th>\n",
       "      <td>2020-03-11</td>\n",
       "      <td>32.98</td>\n",
       "      <td>34.62</td>\n",
       "      <td>36.35</td>\n",
       "      <td>32.56</td>\n",
       "    </tr>\n",
       "    <tr>\n",
       "      <th>1</th>\n",
       "      <td>2020-03-10</td>\n",
       "      <td>34.36</td>\n",
       "      <td>30.37</td>\n",
       "      <td>35.02</td>\n",
       "      <td>30.20</td>\n",
       "    </tr>\n",
       "    <tr>\n",
       "      <th>2</th>\n",
       "      <td>2020-03-09</td>\n",
       "      <td>31.13</td>\n",
       "      <td>32.87</td>\n",
       "      <td>34.88</td>\n",
       "      <td>27.34</td>\n",
       "    </tr>\n",
       "    <tr>\n",
       "      <th>3</th>\n",
       "      <td>2020-03-06</td>\n",
       "      <td>41.28</td>\n",
       "      <td>46.09</td>\n",
       "      <td>46.38</td>\n",
       "      <td>41.05</td>\n",
       "    </tr>\n",
       "    <tr>\n",
       "      <th>4</th>\n",
       "      <td>2020-03-05</td>\n",
       "      <td>45.90</td>\n",
       "      <td>47.13</td>\n",
       "      <td>47.57</td>\n",
       "      <td>45.65</td>\n",
       "    </tr>\n",
       "  </tbody>\n",
       "</table>\n",
       "</div>"
      ],
      "text/plain": [
       "         Date  Closing Price   Open  Daily High  Daily Low\n",
       "0  2020-03-11          32.98  34.62       36.35      32.56\n",
       "1  2020-03-10          34.36  30.37       35.02      30.20\n",
       "2  2020-03-09          31.13  32.87       34.88      27.34\n",
       "3  2020-03-06          41.28  46.09       46.38      41.05\n",
       "4  2020-03-05          45.90  47.13       47.57      45.65"
      ]
     },
     "execution_count": 3,
     "metadata": {},
     "output_type": "execute_result"
    }
   ],
   "source": [
    "df.head()"
   ]
  },
  {
   "cell_type": "code",
   "execution_count": 4,
   "metadata": {},
   "outputs": [
    {
     "data": {
      "text/html": [
       "<div>\n",
       "<style scoped>\n",
       "    .dataframe tbody tr th:only-of-type {\n",
       "        vertical-align: middle;\n",
       "    }\n",
       "\n",
       "    .dataframe tbody tr th {\n",
       "        vertical-align: top;\n",
       "    }\n",
       "\n",
       "    .dataframe thead th {\n",
       "        text-align: right;\n",
       "    }\n",
       "</style>\n",
       "<table border=\"1\" class=\"dataframe\">\n",
       "  <thead>\n",
       "    <tr style=\"text-align: right;\">\n",
       "      <th></th>\n",
       "      <th>Date</th>\n",
       "      <th>Closing Price</th>\n",
       "      <th>Open</th>\n",
       "      <th>Daily High</th>\n",
       "      <th>Daily Low</th>\n",
       "    </tr>\n",
       "  </thead>\n",
       "  <tbody>\n",
       "    <tr>\n",
       "      <th>3609</th>\n",
       "      <td>2006-02-09</td>\n",
       "      <td>62.62</td>\n",
       "      <td>62.68</td>\n",
       "      <td>63.73</td>\n",
       "      <td>62.38</td>\n",
       "    </tr>\n",
       "    <tr>\n",
       "      <th>3610</th>\n",
       "      <td>2006-02-08</td>\n",
       "      <td>62.55</td>\n",
       "      <td>62.96</td>\n",
       "      <td>63.44</td>\n",
       "      <td>62.29</td>\n",
       "    </tr>\n",
       "    <tr>\n",
       "      <th>3611</th>\n",
       "      <td>2006-02-07</td>\n",
       "      <td>63.09</td>\n",
       "      <td>64.82</td>\n",
       "      <td>64.90</td>\n",
       "      <td>62.81</td>\n",
       "    </tr>\n",
       "    <tr>\n",
       "      <th>3612</th>\n",
       "      <td>2006-02-06</td>\n",
       "      <td>65.11</td>\n",
       "      <td>66.35</td>\n",
       "      <td>66.50</td>\n",
       "      <td>64.77</td>\n",
       "    </tr>\n",
       "    <tr>\n",
       "      <th>3613</th>\n",
       "      <td>2006-02-03</td>\n",
       "      <td>65.37</td>\n",
       "      <td>64.77</td>\n",
       "      <td>65.48</td>\n",
       "      <td>63.93</td>\n",
       "    </tr>\n",
       "  </tbody>\n",
       "</table>\n",
       "</div>"
      ],
      "text/plain": [
       "            Date  Closing Price   Open  Daily High  Daily Low\n",
       "3609  2006-02-09          62.62  62.68       63.73      62.38\n",
       "3610  2006-02-08          62.55  62.96       63.44      62.29\n",
       "3611  2006-02-07          63.09  64.82       64.90      62.81\n",
       "3612  2006-02-06          65.11  66.35       66.50      64.77\n",
       "3613  2006-02-03          65.37  64.77       65.48      63.93"
      ]
     },
     "execution_count": 4,
     "metadata": {},
     "output_type": "execute_result"
    }
   ],
   "source": [
    "df.tail()"
   ]
  },
  {
   "cell_type": "markdown",
   "metadata": {},
   "source": [
    "By looking at the first 5 and last 5 rows, we now have a little idea how the data looks like. Basically the data have 5 columns which are:\n",
    "\n",
    "|Column|Description|\n",
    "|------|-----------|\n",
    "|Date| The date on which the data point is recorded|\n",
    "|Closing Price| WTI price at the end of the day's business in a financial market| \n",
    "|Open| The price of the first trade for WTI|\n",
    "|Daily High| The highest WTI price during the coruse of the trading day|\n",
    "|Daily Low| The lowest WTI price during the course of the trading day|"
   ]
  },
  {
   "cell_type": "markdown",
   "metadata": {},
   "source": [
    "We can display the information about the dataframe using the `DataFrame.info()` method."
   ]
  },
  {
   "cell_type": "code",
   "execution_count": 5,
   "metadata": {},
   "outputs": [
    {
     "name": "stdout",
     "output_type": "stream",
     "text": [
      "<class 'pandas.core.frame.DataFrame'>\n",
      "RangeIndex: 3614 entries, 0 to 3613\n",
      "Data columns (total 5 columns):\n",
      " #   Column         Non-Null Count  Dtype  \n",
      "---  ------         --------------  -----  \n",
      " 0   Date           3614 non-null   object \n",
      " 1   Closing Price  3614 non-null   float64\n",
      " 2   Open           3554 non-null   float64\n",
      " 3   Daily High     3595 non-null   float64\n",
      " 4   Daily Low      3602 non-null   float64\n",
      "dtypes: float64(4), object(1)\n",
      "memory usage: 141.3+ KB\n"
     ]
    }
   ],
   "source": [
    "df.info()"
   ]
  },
  {
   "cell_type": "markdown",
   "metadata": {},
   "source": [
    "From the information displayed above, we can see that the dataframe has `3614` entries, and the index of the row is ranging from `0` to `3613`. However, three columns from the dataframe have missing values which are:\n",
    "* `Open`\n",
    "* `Daily High`\n",
    "* `Daily Low`"
   ]
  },
  {
   "cell_type": "markdown",
   "metadata": {},
   "source": [
    "Before we handle the missing values, it is easier for us if the column labels is consistent. We will clean our column labels by:\n",
    "* Replacing spaces with underscores.\n",
    "* Making all the characters lowercase.\n",
    "* Shortening any long column names.\n",
    "\n",
    "Below is the function to make the column labels easier to work with:"
   ]
  },
  {
   "cell_type": "code",
   "execution_count": 6,
   "metadata": {},
   "outputs": [],
   "source": [
    "def clean(a):\n",
    "    c = []\n",
    "    for b in a:\n",
    "        b = b.lower()\n",
    "        b = b.replace(' ', '_')\n",
    "        if b == 'open':\n",
    "            b = b+'ing_price'\n",
    "        c.append(b)\n",
    "    return c"
   ]
  },
  {
   "cell_type": "code",
   "execution_count": 7,
   "metadata": {},
   "outputs": [
    {
     "data": {
      "text/plain": [
       "Index(['date', 'closing_price', 'opening_price', 'daily_high', 'daily_low'], dtype='object')"
      ]
     },
     "execution_count": 7,
     "metadata": {},
     "output_type": "execute_result"
    }
   ],
   "source": [
    "df.columns = clean(df.columns)\n",
    "df.columns"
   ]
  },
  {
   "cell_type": "markdown",
   "metadata": {},
   "source": [
    "Previously, some columns are identified to have missing values. These missing values are called null values. In pandas, null values are indicated by either NaN or None. We can use `DataFrame.isnull()` method to identify missing values, which returns a boolean dataframe. Then, we can use the `DataFrame.sum()` method to give the count of `True` values for each column: "
   ]
  },
  {
   "cell_type": "code",
   "execution_count": 10,
   "metadata": {},
   "outputs": [
    {
     "data": {
      "text/html": [
       "<div>\n",
       "<style scoped>\n",
       "    .dataframe tbody tr th:only-of-type {\n",
       "        vertical-align: middle;\n",
       "    }\n",
       "\n",
       "    .dataframe tbody tr th {\n",
       "        vertical-align: top;\n",
       "    }\n",
       "\n",
       "    .dataframe thead th {\n",
       "        text-align: right;\n",
       "    }\n",
       "</style>\n",
       "<table border=\"1\" class=\"dataframe\">\n",
       "  <thead>\n",
       "    <tr style=\"text-align: right;\">\n",
       "      <th></th>\n",
       "      <th>date</th>\n",
       "      <th>closing_price</th>\n",
       "      <th>opening_price</th>\n",
       "      <th>daily_high</th>\n",
       "      <th>daily_low</th>\n",
       "    </tr>\n",
       "  </thead>\n",
       "  <tbody>\n",
       "    <tr>\n",
       "      <th>0</th>\n",
       "      <td>False</td>\n",
       "      <td>False</td>\n",
       "      <td>False</td>\n",
       "      <td>False</td>\n",
       "      <td>False</td>\n",
       "    </tr>\n",
       "    <tr>\n",
       "      <th>1</th>\n",
       "      <td>False</td>\n",
       "      <td>False</td>\n",
       "      <td>False</td>\n",
       "      <td>False</td>\n",
       "      <td>False</td>\n",
       "    </tr>\n",
       "    <tr>\n",
       "      <th>2</th>\n",
       "      <td>False</td>\n",
       "      <td>False</td>\n",
       "      <td>False</td>\n",
       "      <td>False</td>\n",
       "      <td>False</td>\n",
       "    </tr>\n",
       "    <tr>\n",
       "      <th>3</th>\n",
       "      <td>False</td>\n",
       "      <td>False</td>\n",
       "      <td>False</td>\n",
       "      <td>False</td>\n",
       "      <td>False</td>\n",
       "    </tr>\n",
       "    <tr>\n",
       "      <th>4</th>\n",
       "      <td>False</td>\n",
       "      <td>False</td>\n",
       "      <td>False</td>\n",
       "      <td>False</td>\n",
       "      <td>False</td>\n",
       "    </tr>\n",
       "    <tr>\n",
       "      <th>...</th>\n",
       "      <td>...</td>\n",
       "      <td>...</td>\n",
       "      <td>...</td>\n",
       "      <td>...</td>\n",
       "      <td>...</td>\n",
       "    </tr>\n",
       "    <tr>\n",
       "      <th>3609</th>\n",
       "      <td>False</td>\n",
       "      <td>False</td>\n",
       "      <td>False</td>\n",
       "      <td>False</td>\n",
       "      <td>False</td>\n",
       "    </tr>\n",
       "    <tr>\n",
       "      <th>3610</th>\n",
       "      <td>False</td>\n",
       "      <td>False</td>\n",
       "      <td>False</td>\n",
       "      <td>False</td>\n",
       "      <td>False</td>\n",
       "    </tr>\n",
       "    <tr>\n",
       "      <th>3611</th>\n",
       "      <td>False</td>\n",
       "      <td>False</td>\n",
       "      <td>False</td>\n",
       "      <td>False</td>\n",
       "      <td>False</td>\n",
       "    </tr>\n",
       "    <tr>\n",
       "      <th>3612</th>\n",
       "      <td>False</td>\n",
       "      <td>False</td>\n",
       "      <td>False</td>\n",
       "      <td>False</td>\n",
       "      <td>False</td>\n",
       "    </tr>\n",
       "    <tr>\n",
       "      <th>3613</th>\n",
       "      <td>False</td>\n",
       "      <td>False</td>\n",
       "      <td>False</td>\n",
       "      <td>False</td>\n",
       "      <td>False</td>\n",
       "    </tr>\n",
       "  </tbody>\n",
       "</table>\n",
       "<p>3614 rows × 5 columns</p>\n",
       "</div>"
      ],
      "text/plain": [
       "       date  closing_price  opening_price  daily_high  daily_low\n",
       "0     False          False          False       False      False\n",
       "1     False          False          False       False      False\n",
       "2     False          False          False       False      False\n",
       "3     False          False          False       False      False\n",
       "4     False          False          False       False      False\n",
       "...     ...            ...            ...         ...        ...\n",
       "3609  False          False          False       False      False\n",
       "3610  False          False          False       False      False\n",
       "3611  False          False          False       False      False\n",
       "3612  False          False          False       False      False\n",
       "3613  False          False          False       False      False\n",
       "\n",
       "[3614 rows x 5 columns]"
      ]
     },
     "execution_count": 10,
     "metadata": {},
     "output_type": "execute_result"
    }
   ],
   "source": [
    "df.isnull()\n",
    "# this will return a boolean dataframe"
   ]
  },
  {
   "cell_type": "code",
   "execution_count": 9,
   "metadata": {},
   "outputs": [
    {
     "data": {
      "text/plain": [
       "date              0\n",
       "closing_price     0\n",
       "opening_price    60\n",
       "daily_high       19\n",
       "daily_low        12\n",
       "dtype: int64"
      ]
     },
     "execution_count": 9,
     "metadata": {},
     "output_type": "execute_result"
    }
   ],
   "source": [
    "df.isnull().sum()"
   ]
  },
  {
   "cell_type": "markdown",
   "metadata": {},
   "source": [
    "We can see that `opening_price` has `60` null values, `daily_high` has `19` null values, and `daily_low` has `12` null values. Let us have a glimpse on which rows that null values resides."
   ]
  },
  {
   "cell_type": "code",
   "execution_count": 15,
   "metadata": {},
   "outputs": [
    {
     "data": {
      "text/html": [
       "<div>\n",
       "<style scoped>\n",
       "    .dataframe tbody tr th:only-of-type {\n",
       "        vertical-align: middle;\n",
       "    }\n",
       "\n",
       "    .dataframe tbody tr th {\n",
       "        vertical-align: top;\n",
       "    }\n",
       "\n",
       "    .dataframe thead th {\n",
       "        text-align: right;\n",
       "    }\n",
       "</style>\n",
       "<table border=\"1\" class=\"dataframe\">\n",
       "  <thead>\n",
       "    <tr style=\"text-align: right;\">\n",
       "      <th></th>\n",
       "      <th>date</th>\n",
       "      <th>closing_price</th>\n",
       "      <th>opening_price</th>\n",
       "      <th>daily_high</th>\n",
       "      <th>daily_low</th>\n",
       "    </tr>\n",
       "  </thead>\n",
       "  <tbody>\n",
       "    <tr>\n",
       "      <th>13</th>\n",
       "      <td>2020-02-21</td>\n",
       "      <td>53.38</td>\n",
       "      <td>NaN</td>\n",
       "      <td>NaN</td>\n",
       "      <td>52.55</td>\n",
       "    </tr>\n",
       "    <tr>\n",
       "      <th>16</th>\n",
       "      <td>2020-02-18</td>\n",
       "      <td>52.05</td>\n",
       "      <td>NaN</td>\n",
       "      <td>NaN</td>\n",
       "      <td>50.88</td>\n",
       "    </tr>\n",
       "    <tr>\n",
       "      <th>34</th>\n",
       "      <td>2020-01-22</td>\n",
       "      <td>56.74</td>\n",
       "      <td>NaN</td>\n",
       "      <td>NaN</td>\n",
       "      <td>56.03</td>\n",
       "    </tr>\n",
       "    <tr>\n",
       "      <th>54</th>\n",
       "      <td>2019-12-20</td>\n",
       "      <td>60.44</td>\n",
       "      <td>NaN</td>\n",
       "      <td>61.20</td>\n",
       "      <td>60.02</td>\n",
       "    </tr>\n",
       "    <tr>\n",
       "      <th>74</th>\n",
       "      <td>2019-11-21</td>\n",
       "      <td>58.58</td>\n",
       "      <td>NaN</td>\n",
       "      <td>58.67</td>\n",
       "      <td>56.60</td>\n",
       "    </tr>\n",
       "    <tr>\n",
       "      <th>...</th>\n",
       "      <td>...</td>\n",
       "      <td>...</td>\n",
       "      <td>...</td>\n",
       "      <td>...</td>\n",
       "      <td>...</td>\n",
       "    </tr>\n",
       "    <tr>\n",
       "      <th>3045</th>\n",
       "      <td>2008-04-22</td>\n",
       "      <td>118.07</td>\n",
       "      <td>NaN</td>\n",
       "      <td>118.99</td>\n",
       "      <td>115.95</td>\n",
       "    </tr>\n",
       "    <tr>\n",
       "      <th>3068</th>\n",
       "      <td>2008-03-19</td>\n",
       "      <td>102.54</td>\n",
       "      <td>NaN</td>\n",
       "      <td>107.79</td>\n",
       "      <td>101.81</td>\n",
       "    </tr>\n",
       "    <tr>\n",
       "      <th>3088</th>\n",
       "      <td>2008-02-20</td>\n",
       "      <td>99.70</td>\n",
       "      <td>NaN</td>\n",
       "      <td>100.72</td>\n",
       "      <td>97.96</td>\n",
       "    </tr>\n",
       "    <tr>\n",
       "      <th>3131</th>\n",
       "      <td>2007-12-19</td>\n",
       "      <td>91.24</td>\n",
       "      <td>NaN</td>\n",
       "      <td>92.32</td>\n",
       "      <td>89.70</td>\n",
       "    </tr>\n",
       "    <tr>\n",
       "      <th>3153</th>\n",
       "      <td>2007-11-16</td>\n",
       "      <td>93.96</td>\n",
       "      <td>NaN</td>\n",
       "      <td>94.03</td>\n",
       "      <td>NaN</td>\n",
       "    </tr>\n",
       "  </tbody>\n",
       "</table>\n",
       "<p>63 rows × 5 columns</p>\n",
       "</div>"
      ],
      "text/plain": [
       "            date  closing_price  opening_price  daily_high  daily_low\n",
       "13    2020-02-21          53.38            NaN         NaN      52.55\n",
       "16    2020-02-18          52.05            NaN         NaN      50.88\n",
       "34    2020-01-22          56.74            NaN         NaN      56.03\n",
       "54    2019-12-20          60.44            NaN       61.20      60.02\n",
       "74    2019-11-21          58.58            NaN       58.67      56.60\n",
       "...          ...            ...            ...         ...        ...\n",
       "3045  2008-04-22         118.07            NaN      118.99     115.95\n",
       "3068  2008-03-19         102.54            NaN      107.79     101.81\n",
       "3088  2008-02-20          99.70            NaN      100.72      97.96\n",
       "3131  2007-12-19          91.24            NaN       92.32      89.70\n",
       "3153  2007-11-16          93.96            NaN       94.03        NaN\n",
       "\n",
       "[63 rows x 5 columns]"
      ]
     },
     "execution_count": 15,
     "metadata": {},
     "output_type": "execute_result"
    }
   ],
   "source": [
    "df.loc[(df.opening_price.isnull())|(df.daily_high.isnull())|(df.daily_low.isnull()),:]"
   ]
  },
  {
   "cell_type": "markdown",
   "metadata": {},
   "source": [
    "The number of rows that have missing values are only 63, thus deleting the 63 rows can be considered. We can drop all the null values from the dataframe using `DataFrame.dropna()` method as follows:"
   ]
  },
  {
   "cell_type": "code",
   "execution_count": 19,
   "metadata": {},
   "outputs": [],
   "source": [
    "df = df.dropna()"
   ]
  },
  {
   "cell_type": "markdown",
   "metadata": {},
   "source": [
    "We can see the number of rows is changed from `3614` to `3551`. Try running df.isnull().sum() one more time just to make sure that there is no more null values."
   ]
  },
  {
   "cell_type": "code",
   "execution_count": 21,
   "metadata": {},
   "outputs": [
    {
     "data": {
      "text/plain": [
       "date             0\n",
       "closing_price    0\n",
       "opening_price    0\n",
       "daily_high       0\n",
       "daily_low        0\n",
       "dtype: int64"
      ]
     },
     "execution_count": 21,
     "metadata": {},
     "output_type": "execute_result"
    }
   ],
   "source": [
    "df.isnull().sum()"
   ]
  },
  {
   "cell_type": "code",
   "execution_count": null,
   "metadata": {},
   "outputs": [],
   "source": []
  }
 ],
 "metadata": {
  "kernelspec": {
   "display_name": "Python 3",
   "language": "python",
   "name": "python3"
  },
  "language_info": {
   "codemirror_mode": {
    "name": "ipython",
    "version": 3
   },
   "file_extension": ".py",
   "mimetype": "text/x-python",
   "name": "python",
   "nbconvert_exporter": "python",
   "pygments_lexer": "ipython3",
   "version": "3.6.9"
  }
 },
 "nbformat": 4,
 "nbformat_minor": 4
}
